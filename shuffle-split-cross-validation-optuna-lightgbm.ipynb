{
 "cells": [
  {
   "cell_type": "code",
   "execution_count": 1,
   "id": "daa36fa4",
   "metadata": {
    "_cell_guid": "b1076dfc-b9ad-4769-8c92-a6c4dae69d19",
    "_uuid": "8f2839f25d086af736a60e9eeb907d3b93b6e0e5",
    "execution": {
     "iopub.execute_input": "2024-02-24T18:36:28.298315Z",
     "iopub.status.busy": "2024-02-24T18:36:28.297564Z",
     "iopub.status.idle": "2024-02-24T18:36:31.805335Z",
     "shell.execute_reply": "2024-02-24T18:36:31.804253Z"
    },
    "papermill": {
     "duration": 3.518023,
     "end_time": "2024-02-24T18:36:31.808070",
     "exception": false,
     "start_time": "2024-02-24T18:36:28.290047",
     "status": "completed"
    },
    "tags": []
   },
   "outputs": [],
   "source": [
    "import pandas as pd\n",
    "import numpy as np\n",
    "from sklearn.preprocessing import LabelEncoder, StandardScaler\n",
    "from sklearn.model_selection import ShuffleSplit\n",
    "from sklearn.metrics import accuracy_score\n",
    "import lightgbm as lgb"
   ]
  },
  {
   "cell_type": "code",
   "execution_count": 2,
   "id": "a7d6c86b",
   "metadata": {
    "execution": {
     "iopub.execute_input": "2024-02-24T18:36:31.820530Z",
     "iopub.status.busy": "2024-02-24T18:36:31.820149Z",
     "iopub.status.idle": "2024-02-24T18:36:32.036892Z",
     "shell.execute_reply": "2024-02-24T18:36:32.035688Z"
    },
    "papermill": {
     "duration": 0.225821,
     "end_time": "2024-02-24T18:36:32.039470",
     "exception": false,
     "start_time": "2024-02-24T18:36:31.813649",
     "status": "completed"
    },
    "tags": []
   },
   "outputs": [],
   "source": [
    "# Load Data\n",
    "train_data = pd.read_csv(\"/kaggle/input/playground-series-s4e2/train.csv\")\n",
    "test_data = pd.read_csv(\"/kaggle/input/playground-series-s4e2/test.csv\")\n",
    "original_data = pd.read_csv(\"/kaggle/input/obesity-or-cvd-risk-classifyregressorcluster/ObesityDataSet.csv\")\n",
    "sample_submission_data = pd.read_csv(\"/kaggle/input/playground-series-s4e2/sample_submission.csv\")\n"
   ]
  },
  {
   "cell_type": "code",
   "execution_count": 3,
   "id": "2112f561",
   "metadata": {
    "execution": {
     "iopub.execute_input": "2024-02-24T18:36:32.052189Z",
     "iopub.status.busy": "2024-02-24T18:36:32.051773Z",
     "iopub.status.idle": "2024-02-24T18:36:32.111210Z",
     "shell.execute_reply": "2024-02-24T18:36:32.110235Z"
    },
    "papermill": {
     "duration": 0.068723,
     "end_time": "2024-02-24T18:36:32.113913",
     "exception": false,
     "start_time": "2024-02-24T18:36:32.045190",
     "status": "completed"
    },
    "tags": []
   },
   "outputs": [],
   "source": [
    "# Merge Data\n",
    "train_data = train_data.drop(\"id\", axis=1)\n",
    "train_data = pd.concat([train_data, original_data], ignore_index=True).drop_duplicates()\n"
   ]
  },
  {
   "cell_type": "code",
   "execution_count": 4,
   "id": "f16f78f1",
   "metadata": {
    "execution": {
     "iopub.execute_input": "2024-02-24T18:36:32.126044Z",
     "iopub.status.busy": "2024-02-24T18:36:32.125614Z",
     "iopub.status.idle": "2024-02-24T18:36:32.144743Z",
     "shell.execute_reply": "2024-02-24T18:36:32.143827Z"
    },
    "papermill": {
     "duration": 0.028235,
     "end_time": "2024-02-24T18:36:32.147380",
     "exception": false,
     "start_time": "2024-02-24T18:36:32.119145",
     "status": "completed"
    },
    "tags": []
   },
   "outputs": [],
   "source": [
    "# Feature Scaling\n",
    "scaler = StandardScaler()\n",
    "num_cols = list(train_data.select_dtypes(exclude=['object']).columns)\n",
    "train_data[num_cols] = scaler.fit_transform(train_data[num_cols])\n",
    "test_data[num_cols] = scaler.transform(test_data[num_cols])\n"
   ]
  },
  {
   "cell_type": "code",
   "execution_count": 5,
   "id": "7cedd176",
   "metadata": {
    "execution": {
     "iopub.execute_input": "2024-02-24T18:36:32.159351Z",
     "iopub.status.busy": "2024-02-24T18:36:32.158934Z",
     "iopub.status.idle": "2024-02-24T18:36:32.259182Z",
     "shell.execute_reply": "2024-02-24T18:36:32.258221Z"
    },
    "papermill": {
     "duration": 0.109362,
     "end_time": "2024-02-24T18:36:32.261947",
     "exception": false,
     "start_time": "2024-02-24T18:36:32.152585",
     "status": "completed"
    },
    "tags": []
   },
   "outputs": [],
   "source": [
    "# Encoding Categorical Variables\n",
    "labelencoder = LabelEncoder()\n",
    "object_columns = train_data.select_dtypes(include='object').columns.difference(['NObeyesdad'])\n",
    "\n",
    "for col_name in object_columns:\n",
    "    if train_data[col_name].dtypes == 'object':\n",
    "        train_data[col_name] = labelencoder.fit_transform(train_data[col_name])\n",
    "        test_data[col_name] = labelencoder.transform(test_data[col_name])\n"
   ]
  },
  {
   "cell_type": "code",
   "execution_count": 6,
   "id": "8b9f8c82",
   "metadata": {
    "execution": {
     "iopub.execute_input": "2024-02-24T18:36:32.274559Z",
     "iopub.status.busy": "2024-02-24T18:36:32.273655Z",
     "iopub.status.idle": "2024-02-24T18:36:32.292558Z",
     "shell.execute_reply": "2024-02-24T18:36:32.291386Z"
    },
    "papermill": {
     "duration": 0.027902,
     "end_time": "2024-02-24T18:36:32.295155",
     "exception": false,
     "start_time": "2024-02-24T18:36:32.267253",
     "status": "completed"
    },
    "tags": []
   },
   "outputs": [],
   "source": [
    "# Define Features and Target\n",
    "X = train_data.drop(['NObeyesdad'], axis=1)\n",
    "y = labelencoder.fit_transform(train_data['NObeyesdad'])\n",
    "X_test = test_data.drop([\"id\"], axis=1)\n"
   ]
  },
  {
   "cell_type": "code",
   "execution_count": 7,
   "id": "36696956",
   "metadata": {
    "execution": {
     "iopub.execute_input": "2024-02-24T18:36:32.307791Z",
     "iopub.status.busy": "2024-02-24T18:36:32.306786Z",
     "iopub.status.idle": "2024-02-24T18:36:32.313037Z",
     "shell.execute_reply": "2024-02-24T18:36:32.312142Z"
    },
    "papermill": {
     "duration": 0.014846,
     "end_time": "2024-02-24T18:36:32.315290",
     "exception": false,
     "start_time": "2024-02-24T18:36:32.300444",
     "status": "completed"
    },
    "tags": []
   },
   "outputs": [],
   "source": [
    "# Define LightGBM model parameters\n",
    "param = {\n",
    "    \"objective\": \"multiclass\",\n",
    "    \"metric\": \"multi_logloss\",\n",
    "    \"verbosity\": -1,\n",
    "    \"boosting_type\": \"gbdt\",\n",
    "    \"random_state\": 42,\n",
    "    \"num_class\": 7,\n",
    "    'learning_rate': 0.030962211546832760,\n",
    "    'n_estimators': 500,\n",
    "    'lambda_l1': 0.009667446568254372,\n",
    "    'lambda_l2': 0.04018641437301800,\n",
    "    'max_depth': 10,\n",
    "    'colsample_bytree': 0.40977129346872643,\n",
    "    'subsample': 0.9535797422450176,\n",
    "    'min_child_samples': 26\n",
    "}\n",
    "\n"
   ]
  },
  {
   "cell_type": "code",
   "execution_count": 8,
   "id": "1eaed732",
   "metadata": {
    "execution": {
     "iopub.execute_input": "2024-02-24T18:36:32.327367Z",
     "iopub.status.busy": "2024-02-24T18:36:32.326620Z",
     "iopub.status.idle": "2024-02-24T18:39:56.188838Z",
     "shell.execute_reply": "2024-02-24T18:39:56.187513Z"
    },
    "papermill": {
     "duration": 203.871224,
     "end_time": "2024-02-24T18:39:56.191616",
     "exception": false,
     "start_time": "2024-02-24T18:36:32.320392",
     "status": "completed"
    },
    "tags": []
   },
   "outputs": [],
   "source": [
    "# Define Shuffle-Split Cross-Validation\n",
    "num_splits = 10\n",
    "ss = ShuffleSplit(n_splits=num_splits, test_size=0.1, random_state=42)\n",
    "\n",
    "# Initialize lists to store validation accuracies and predictions\n",
    "val_accuracies = []\n",
    "test_preds = []\n",
    "\n",
    "# Perform Shuffle-Split Cross-Validation\n",
    "for train_index, val_index in ss.split(X):\n",
    "    X_train, X_val = X.iloc[train_index], X.iloc[val_index]\n",
    "    y_train, y_val = y[train_index], y[val_index]\n",
    "    \n",
    "    # Train LightGBM model\n",
    "    model_lgb = lgb.LGBMClassifier(**param, verbose=100)\n",
    "    model_lgb.fit(X_train, y_train)\n",
    "    \n",
    "    # Make predictions on validation set\n",
    "    pred_proba = model_lgb.predict_proba(X_val)\n",
    "    y_pred = np.argmax(pred_proba, axis=1)\n",
    "    \n",
    "    # Calculate accuracy and store\n",
    "    val_accuracy = accuracy_score(y_val, y_pred)\n",
    "    val_accuracies.append(val_accuracy)\n",
    "    \n",
    "    # Make predictions on test set\n",
    "    test_pred_proba = model_lgb.predict_proba(X_test)\n",
    "    test_preds.append(test_pred_proba)\n",
    "\n"
   ]
  },
  {
   "cell_type": "code",
   "execution_count": 9,
   "id": "38593d94",
   "metadata": {
    "execution": {
     "iopub.execute_input": "2024-02-24T18:39:56.204329Z",
     "iopub.status.busy": "2024-02-24T18:39:56.203809Z",
     "iopub.status.idle": "2024-02-24T18:39:56.209490Z",
     "shell.execute_reply": "2024-02-24T18:39:56.208446Z"
    },
    "papermill": {
     "duration": 0.016272,
     "end_time": "2024-02-24T18:39:56.213338",
     "exception": false,
     "start_time": "2024-02-24T18:39:56.197066",
     "status": "completed"
    },
    "tags": []
   },
   "outputs": [
    {
     "name": "stdout",
     "output_type": "stream",
     "text": [
      "Mean Validation Accuracy: 0.915886214442013\n"
     ]
    }
   ],
   "source": [
    "# Average validation accuracy\n",
    "mean_val_accuracy = np.mean(val_accuracies)\n",
    "print(\"Mean Validation Accuracy:\", mean_val_accuracy)\n",
    "\n"
   ]
  },
  {
   "cell_type": "code",
   "execution_count": 10,
   "id": "8b910d3a",
   "metadata": {
    "execution": {
     "iopub.execute_input": "2024-02-24T18:39:56.225684Z",
     "iopub.status.busy": "2024-02-24T18:39:56.225320Z",
     "iopub.status.idle": "2024-02-24T18:39:56.236481Z",
     "shell.execute_reply": "2024-02-24T18:39:56.235310Z"
    },
    "papermill": {
     "duration": 0.020564,
     "end_time": "2024-02-24T18:39:56.239126",
     "exception": false,
     "start_time": "2024-02-24T18:39:56.218562",
     "status": "completed"
    },
    "tags": []
   },
   "outputs": [],
   "source": [
    "# Average predictions on test set\n",
    "mean_test_preds = np.mean(test_preds, axis=0)\n",
    "final_test_preds = np.argmax(mean_test_preds, axis=1)\n",
    "\n"
   ]
  },
  {
   "cell_type": "code",
   "execution_count": 11,
   "id": "c79d4d7a",
   "metadata": {
    "execution": {
     "iopub.execute_input": "2024-02-24T18:39:56.251619Z",
     "iopub.status.busy": "2024-02-24T18:39:56.251251Z",
     "iopub.status.idle": "2024-02-24T18:39:56.256519Z",
     "shell.execute_reply": "2024-02-24T18:39:56.255495Z"
    },
    "papermill": {
     "duration": 0.014387,
     "end_time": "2024-02-24T18:39:56.258955",
     "exception": false,
     "start_time": "2024-02-24T18:39:56.244568",
     "status": "completed"
    },
    "tags": []
   },
   "outputs": [],
   "source": [
    "# Decode predictions\n",
    "pred = labelencoder.inverse_transform(final_test_preds)\n"
   ]
  },
  {
   "cell_type": "code",
   "execution_count": 12,
   "id": "60a013bc",
   "metadata": {
    "execution": {
     "iopub.execute_input": "2024-02-24T18:39:56.271619Z",
     "iopub.status.busy": "2024-02-24T18:39:56.271251Z",
     "iopub.status.idle": "2024-02-24T18:39:56.307494Z",
     "shell.execute_reply": "2024-02-24T18:39:56.306467Z"
    },
    "papermill": {
     "duration": 0.045994,
     "end_time": "2024-02-24T18:39:56.310249",
     "exception": false,
     "start_time": "2024-02-24T18:39:56.264255",
     "status": "completed"
    },
    "tags": []
   },
   "outputs": [],
   "source": [
    "\n",
    "# Create submission file\n",
    "submission = pd.DataFrame({'id': test_data.id, 'NObeyesdad': pred})\n",
    "submission.to_csv('submission.csv', index=False)\n"
   ]
  },
  {
   "cell_type": "code",
   "execution_count": null,
   "id": "24f08ab0",
   "metadata": {
    "papermill": {
     "duration": 0.006376,
     "end_time": "2024-02-24T18:39:56.322020",
     "exception": false,
     "start_time": "2024-02-24T18:39:56.315644",
     "status": "completed"
    },
    "tags": []
   },
   "outputs": [],
   "source": []
  }
 ],
 "metadata": {
  "kaggle": {
   "accelerator": "none",
   "dataSources": [
    {
     "databundleVersionId": 7609535,
     "sourceId": 68479,
     "sourceType": "competition"
    },
    {
     "datasetId": 4030196,
     "sourceId": 7009925,
     "sourceType": "datasetVersion"
    }
   ],
   "dockerImageVersionId": 30646,
   "isGpuEnabled": false,
   "isInternetEnabled": true,
   "language": "python",
   "sourceType": "notebook"
  },
  "kernelspec": {
   "display_name": "Python 3",
   "language": "python",
   "name": "python3"
  },
  "language_info": {
   "codemirror_mode": {
    "name": "ipython",
    "version": 3
   },
   "file_extension": ".py",
   "mimetype": "text/x-python",
   "name": "python",
   "nbconvert_exporter": "python",
   "pygments_lexer": "ipython3",
   "version": "3.10.13"
  },
  "papermill": {
   "default_parameters": {},
   "duration": 211.722407,
   "end_time": "2024-02-24T18:39:57.049474",
   "environment_variables": {},
   "exception": null,
   "input_path": "__notebook__.ipynb",
   "output_path": "__notebook__.ipynb",
   "parameters": {},
   "start_time": "2024-02-24T18:36:25.327067",
   "version": "2.5.0"
  }
 },
 "nbformat": 4,
 "nbformat_minor": 5
}
