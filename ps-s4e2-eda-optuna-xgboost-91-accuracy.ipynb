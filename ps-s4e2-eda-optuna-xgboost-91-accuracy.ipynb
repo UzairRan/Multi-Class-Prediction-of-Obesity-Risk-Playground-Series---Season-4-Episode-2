{
 "cells": [
  {
   "cell_type": "markdown",
   "id": "0c5d3b69",
   "metadata": {
    "papermill": {
     "duration": 0.011456,
     "end_time": "2024-02-21T05:44:56.580089",
     "exception": false,
     "start_time": "2024-02-21T05:44:56.568633",
     "status": "completed"
    },
    "tags": []
   },
   "source": [
    "# Import necessary libraries"
   ]
  },
  {
   "cell_type": "code",
   "execution_count": 1,
   "id": "04bbbe5b",
   "metadata": {
    "_cell_guid": "b1076dfc-b9ad-4769-8c92-a6c4dae69d19",
    "_uuid": "8f2839f25d086af736a60e9eeb907d3b93b6e0e5",
    "execution": {
     "iopub.execute_input": "2024-02-21T05:44:56.604682Z",
     "iopub.status.busy": "2024-02-21T05:44:56.603898Z",
     "iopub.status.idle": "2024-02-21T05:45:00.868432Z",
     "shell.execute_reply": "2024-02-21T05:45:00.867074Z"
    },
    "papermill": {
     "duration": 4.280197,
     "end_time": "2024-02-21T05:45:00.871555",
     "exception": false,
     "start_time": "2024-02-21T05:44:56.591358",
     "status": "completed"
    },
    "tags": []
   },
   "outputs": [],
   "source": [
    "import pandas as pd\n",
    "import numpy as np\n",
    "import matplotlib.pyplot as plt\n",
    "import seaborn as sns\n",
    "from scipy.stats import chi2_contingency\n",
    "from sklearn.preprocessing import LabelEncoder\n",
    "from sklearn.model_selection import train_test_split\n",
    "from sklearn.preprocessing import StandardScaler, LabelEncoder\n",
    "from sklearn.metrics import accuracy_score\n",
    "import xgboost as xgb\n",
    "from sklearn.metrics import accuracy_score\n",
    "import optuna\n",
    "import logging\n",
    "optuna.logging.set_verbosity(optuna.logging.WARNING)"
   ]
  },
  {
   "cell_type": "markdown",
   "id": "0f57e203",
   "metadata": {
    "papermill": {
     "duration": 0.011098,
     "end_time": "2024-02-21T05:45:00.894190",
     "exception": false,
     "start_time": "2024-02-21T05:45:00.883092",
     "status": "completed"
    },
    "tags": []
   },
   "source": [
    "#  Exploratory Data Analysis"
   ]
  },
  {
   "cell_type": "markdown",
   "id": "eaa3cd5a",
   "metadata": {
    "papermill": {
     "duration": 0.010703,
     "end_time": "2024-02-21T05:45:00.916072",
     "exception": false,
     "start_time": "2024-02-21T05:45:00.905369",
     "status": "completed"
    },
    "tags": []
   },
   "source": [
    "***Load the datasets***"
   ]
  },
  {
   "cell_type": "code",
   "execution_count": 2,
   "id": "2b11d3f2",
   "metadata": {
    "execution": {
     "iopub.execute_input": "2024-02-21T05:45:00.940439Z",
     "iopub.status.busy": "2024-02-21T05:45:00.939807Z",
     "iopub.status.idle": "2024-02-21T05:45:01.177069Z",
     "shell.execute_reply": "2024-02-21T05:45:01.175976Z"
    },
    "papermill": {
     "duration": 0.252382,
     "end_time": "2024-02-21T05:45:01.179613",
     "exception": false,
     "start_time": "2024-02-21T05:45:00.927231",
     "status": "completed"
    },
    "tags": []
   },
   "outputs": [],
   "source": [
    "train_data = pd.read_csv('/kaggle/input/playground-series-s4e2/train.csv')\n",
    "test_data = pd.read_csv('/kaggle/input/playground-series-s4e2/test.csv')\n",
    "sample_submission = pd.read_csv('/kaggle/input/playground-series-s4e2/sample_submission.csv')"
   ]
  },
  {
   "cell_type": "markdown",
   "id": "ede48e0c",
   "metadata": {
    "papermill": {
     "duration": 0.01082,
     "end_time": "2024-02-21T05:45:01.201986",
     "exception": false,
     "start_time": "2024-02-21T05:45:01.191166",
     "status": "completed"
    },
    "tags": []
   },
   "source": [
    "**information about the datasets**"
   ]
  },
  {
   "cell_type": "code",
   "execution_count": 3,
   "id": "5c85a461",
   "metadata": {
    "execution": {
     "iopub.execute_input": "2024-02-21T05:45:01.228867Z",
     "iopub.status.busy": "2024-02-21T05:45:01.228136Z",
     "iopub.status.idle": "2024-02-21T05:45:01.256011Z",
     "shell.execute_reply": "2024-02-21T05:45:01.254700Z"
    },
    "papermill": {
     "duration": 0.04575,
     "end_time": "2024-02-21T05:45:01.258955",
     "exception": false,
     "start_time": "2024-02-21T05:45:01.213205",
     "status": "completed"
    },
    "tags": []
   },
   "outputs": [
    {
     "data": {
      "text/html": [
       "<div>\n",
       "<style scoped>\n",
       "    .dataframe tbody tr th:only-of-type {\n",
       "        vertical-align: middle;\n",
       "    }\n",
       "\n",
       "    .dataframe tbody tr th {\n",
       "        vertical-align: top;\n",
       "    }\n",
       "\n",
       "    .dataframe thead th {\n",
       "        text-align: right;\n",
       "    }\n",
       "</style>\n",
       "<table border=\"1\" class=\"dataframe\">\n",
       "  <thead>\n",
       "    <tr style=\"text-align: right;\">\n",
       "      <th></th>\n",
       "      <th>id</th>\n",
       "      <th>Gender</th>\n",
       "      <th>Age</th>\n",
       "      <th>Height</th>\n",
       "      <th>Weight</th>\n",
       "      <th>family_history_with_overweight</th>\n",
       "      <th>FAVC</th>\n",
       "      <th>FCVC</th>\n",
       "      <th>NCP</th>\n",
       "      <th>CAEC</th>\n",
       "      <th>SMOKE</th>\n",
       "      <th>CH2O</th>\n",
       "      <th>SCC</th>\n",
       "      <th>FAF</th>\n",
       "      <th>TUE</th>\n",
       "      <th>CALC</th>\n",
       "      <th>MTRANS</th>\n",
       "      <th>NObeyesdad</th>\n",
       "    </tr>\n",
       "  </thead>\n",
       "  <tbody>\n",
       "    <tr>\n",
       "      <th>0</th>\n",
       "      <td>0</td>\n",
       "      <td>Male</td>\n",
       "      <td>24.443011</td>\n",
       "      <td>1.699998</td>\n",
       "      <td>81.669950</td>\n",
       "      <td>yes</td>\n",
       "      <td>yes</td>\n",
       "      <td>2.000000</td>\n",
       "      <td>2.983297</td>\n",
       "      <td>Sometimes</td>\n",
       "      <td>no</td>\n",
       "      <td>2.763573</td>\n",
       "      <td>no</td>\n",
       "      <td>0.000000</td>\n",
       "      <td>0.976473</td>\n",
       "      <td>Sometimes</td>\n",
       "      <td>Public_Transportation</td>\n",
       "      <td>Overweight_Level_II</td>\n",
       "    </tr>\n",
       "    <tr>\n",
       "      <th>1</th>\n",
       "      <td>1</td>\n",
       "      <td>Female</td>\n",
       "      <td>18.000000</td>\n",
       "      <td>1.560000</td>\n",
       "      <td>57.000000</td>\n",
       "      <td>yes</td>\n",
       "      <td>yes</td>\n",
       "      <td>2.000000</td>\n",
       "      <td>3.000000</td>\n",
       "      <td>Frequently</td>\n",
       "      <td>no</td>\n",
       "      <td>2.000000</td>\n",
       "      <td>no</td>\n",
       "      <td>1.000000</td>\n",
       "      <td>1.000000</td>\n",
       "      <td>no</td>\n",
       "      <td>Automobile</td>\n",
       "      <td>Normal_Weight</td>\n",
       "    </tr>\n",
       "    <tr>\n",
       "      <th>2</th>\n",
       "      <td>2</td>\n",
       "      <td>Female</td>\n",
       "      <td>18.000000</td>\n",
       "      <td>1.711460</td>\n",
       "      <td>50.165754</td>\n",
       "      <td>yes</td>\n",
       "      <td>yes</td>\n",
       "      <td>1.880534</td>\n",
       "      <td>1.411685</td>\n",
       "      <td>Sometimes</td>\n",
       "      <td>no</td>\n",
       "      <td>1.910378</td>\n",
       "      <td>no</td>\n",
       "      <td>0.866045</td>\n",
       "      <td>1.673584</td>\n",
       "      <td>no</td>\n",
       "      <td>Public_Transportation</td>\n",
       "      <td>Insufficient_Weight</td>\n",
       "    </tr>\n",
       "    <tr>\n",
       "      <th>3</th>\n",
       "      <td>3</td>\n",
       "      <td>Female</td>\n",
       "      <td>20.952737</td>\n",
       "      <td>1.710730</td>\n",
       "      <td>131.274851</td>\n",
       "      <td>yes</td>\n",
       "      <td>yes</td>\n",
       "      <td>3.000000</td>\n",
       "      <td>3.000000</td>\n",
       "      <td>Sometimes</td>\n",
       "      <td>no</td>\n",
       "      <td>1.674061</td>\n",
       "      <td>no</td>\n",
       "      <td>1.467863</td>\n",
       "      <td>0.780199</td>\n",
       "      <td>Sometimes</td>\n",
       "      <td>Public_Transportation</td>\n",
       "      <td>Obesity_Type_III</td>\n",
       "    </tr>\n",
       "    <tr>\n",
       "      <th>4</th>\n",
       "      <td>4</td>\n",
       "      <td>Male</td>\n",
       "      <td>31.641081</td>\n",
       "      <td>1.914186</td>\n",
       "      <td>93.798055</td>\n",
       "      <td>yes</td>\n",
       "      <td>yes</td>\n",
       "      <td>2.679664</td>\n",
       "      <td>1.971472</td>\n",
       "      <td>Sometimes</td>\n",
       "      <td>no</td>\n",
       "      <td>1.979848</td>\n",
       "      <td>no</td>\n",
       "      <td>1.967973</td>\n",
       "      <td>0.931721</td>\n",
       "      <td>Sometimes</td>\n",
       "      <td>Public_Transportation</td>\n",
       "      <td>Overweight_Level_II</td>\n",
       "    </tr>\n",
       "  </tbody>\n",
       "</table>\n",
       "</div>"
      ],
      "text/plain": [
       "   id  Gender        Age    Height      Weight family_history_with_overweight  \\\n",
       "0   0    Male  24.443011  1.699998   81.669950                            yes   \n",
       "1   1  Female  18.000000  1.560000   57.000000                            yes   \n",
       "2   2  Female  18.000000  1.711460   50.165754                            yes   \n",
       "3   3  Female  20.952737  1.710730  131.274851                            yes   \n",
       "4   4    Male  31.641081  1.914186   93.798055                            yes   \n",
       "\n",
       "  FAVC      FCVC       NCP        CAEC SMOKE      CH2O SCC       FAF  \\\n",
       "0  yes  2.000000  2.983297   Sometimes    no  2.763573  no  0.000000   \n",
       "1  yes  2.000000  3.000000  Frequently    no  2.000000  no  1.000000   \n",
       "2  yes  1.880534  1.411685   Sometimes    no  1.910378  no  0.866045   \n",
       "3  yes  3.000000  3.000000   Sometimes    no  1.674061  no  1.467863   \n",
       "4  yes  2.679664  1.971472   Sometimes    no  1.979848  no  1.967973   \n",
       "\n",
       "        TUE       CALC                 MTRANS           NObeyesdad  \n",
       "0  0.976473  Sometimes  Public_Transportation  Overweight_Level_II  \n",
       "1  1.000000         no             Automobile        Normal_Weight  \n",
       "2  1.673584         no  Public_Transportation  Insufficient_Weight  \n",
       "3  0.780199  Sometimes  Public_Transportation     Obesity_Type_III  \n",
       "4  0.931721  Sometimes  Public_Transportation  Overweight_Level_II  "
      ]
     },
     "execution_count": 3,
     "metadata": {},
     "output_type": "execute_result"
    }
   ],
   "source": [
    "train_data.head()"
   ]
  },
  {
   "cell_type": "markdown",
   "id": "7ce56b22",
   "metadata": {
    "papermill": {
     "duration": 0.011181,
     "end_time": "2024-02-21T05:45:01.283247",
     "exception": false,
     "start_time": "2024-02-21T05:45:01.272066",
     "status": "completed"
    },
    "tags": []
   },
   "source": [
    "**summary statistics**"
   ]
  },
  {
   "cell_type": "code",
   "execution_count": 4,
   "id": "c7fb8180",
   "metadata": {
    "execution": {
     "iopub.execute_input": "2024-02-21T05:45:01.308319Z",
     "iopub.status.busy": "2024-02-21T05:45:01.307906Z",
     "iopub.status.idle": "2024-02-21T05:45:01.479884Z",
     "shell.execute_reply": "2024-02-21T05:45:01.478691Z"
    },
    "papermill": {
     "duration": 0.187546,
     "end_time": "2024-02-21T05:45:01.482437",
     "exception": false,
     "start_time": "2024-02-21T05:45:01.294891",
     "status": "completed"
    },
    "tags": []
   },
   "outputs": [
    {
     "data": {
      "text/html": [
       "<style type=\"text/css\">\n",
       "#T_08fb8_row0_col0, #T_08fb8_row0_col1, #T_08fb8_row0_col2, #T_08fb8_row0_col3, #T_08fb8_row0_col4, #T_08fb8_row0_col5, #T_08fb8_row0_col6, #T_08fb8_row0_col7, #T_08fb8_row0_col8, #T_08fb8_row7_col0 {\n",
       "  background-color: #fde725;\n",
       "  color: #000000;\n",
       "}\n",
       "#T_08fb8_row1_col0, #T_08fb8_row5_col0 {\n",
       "  background-color: #21908d;\n",
       "  color: #f1f1f1;\n",
       "}\n",
       "#T_08fb8_row1_col1, #T_08fb8_row1_col2, #T_08fb8_row1_col3, #T_08fb8_row1_col4, #T_08fb8_row1_col5, #T_08fb8_row1_col6, #T_08fb8_row1_col7, #T_08fb8_row1_col8, #T_08fb8_row2_col1, #T_08fb8_row2_col2, #T_08fb8_row2_col3, #T_08fb8_row2_col4, #T_08fb8_row2_col5, #T_08fb8_row2_col6, #T_08fb8_row2_col7, #T_08fb8_row2_col8, #T_08fb8_row3_col0, #T_08fb8_row3_col1, #T_08fb8_row3_col2, #T_08fb8_row3_col3, #T_08fb8_row3_col4, #T_08fb8_row3_col5, #T_08fb8_row3_col6, #T_08fb8_row3_col7, #T_08fb8_row3_col8, #T_08fb8_row4_col1, #T_08fb8_row4_col2, #T_08fb8_row4_col3, #T_08fb8_row4_col4, #T_08fb8_row4_col5, #T_08fb8_row4_col6, #T_08fb8_row4_col7, #T_08fb8_row4_col8, #T_08fb8_row5_col1, #T_08fb8_row5_col2, #T_08fb8_row5_col3, #T_08fb8_row5_col4, #T_08fb8_row5_col5, #T_08fb8_row5_col6, #T_08fb8_row5_col7, #T_08fb8_row5_col8, #T_08fb8_row6_col1, #T_08fb8_row6_col2, #T_08fb8_row6_col4, #T_08fb8_row6_col5, #T_08fb8_row6_col6, #T_08fb8_row6_col7, #T_08fb8_row6_col8, #T_08fb8_row7_col1, #T_08fb8_row7_col2, #T_08fb8_row7_col4, #T_08fb8_row7_col5, #T_08fb8_row7_col6, #T_08fb8_row7_col7, #T_08fb8_row7_col8 {\n",
       "  background-color: #440154;\n",
       "  color: #f1f1f1;\n",
       "}\n",
       "#T_08fb8_row2_col0 {\n",
       "  background-color: #365c8d;\n",
       "  color: #f1f1f1;\n",
       "}\n",
       "#T_08fb8_row4_col0 {\n",
       "  background-color: #3b518b;\n",
       "  color: #f1f1f1;\n",
       "}\n",
       "#T_08fb8_row6_col0 {\n",
       "  background-color: #5cc863;\n",
       "  color: #000000;\n",
       "}\n",
       "#T_08fb8_row6_col3, #T_08fb8_row7_col3 {\n",
       "  background-color: #440256;\n",
       "  color: #f1f1f1;\n",
       "}\n",
       "</style>\n",
       "<table id=\"T_08fb8\">\n",
       "  <thead>\n",
       "    <tr>\n",
       "      <th class=\"blank level0\" >&nbsp;</th>\n",
       "      <th id=\"T_08fb8_level0_col0\" class=\"col_heading level0 col0\" >id</th>\n",
       "      <th id=\"T_08fb8_level0_col1\" class=\"col_heading level0 col1\" >Age</th>\n",
       "      <th id=\"T_08fb8_level0_col2\" class=\"col_heading level0 col2\" >Height</th>\n",
       "      <th id=\"T_08fb8_level0_col3\" class=\"col_heading level0 col3\" >Weight</th>\n",
       "      <th id=\"T_08fb8_level0_col4\" class=\"col_heading level0 col4\" >FCVC</th>\n",
       "      <th id=\"T_08fb8_level0_col5\" class=\"col_heading level0 col5\" >NCP</th>\n",
       "      <th id=\"T_08fb8_level0_col6\" class=\"col_heading level0 col6\" >CH2O</th>\n",
       "      <th id=\"T_08fb8_level0_col7\" class=\"col_heading level0 col7\" >FAF</th>\n",
       "      <th id=\"T_08fb8_level0_col8\" class=\"col_heading level0 col8\" >TUE</th>\n",
       "    </tr>\n",
       "  </thead>\n",
       "  <tbody>\n",
       "    <tr>\n",
       "      <th id=\"T_08fb8_level0_row0\" class=\"row_heading level0 row0\" >count</th>\n",
       "      <td id=\"T_08fb8_row0_col0\" class=\"data row0 col0\" >20758.000000</td>\n",
       "      <td id=\"T_08fb8_row0_col1\" class=\"data row0 col1\" >20758.000000</td>\n",
       "      <td id=\"T_08fb8_row0_col2\" class=\"data row0 col2\" >20758.000000</td>\n",
       "      <td id=\"T_08fb8_row0_col3\" class=\"data row0 col3\" >20758.000000</td>\n",
       "      <td id=\"T_08fb8_row0_col4\" class=\"data row0 col4\" >20758.000000</td>\n",
       "      <td id=\"T_08fb8_row0_col5\" class=\"data row0 col5\" >20758.000000</td>\n",
       "      <td id=\"T_08fb8_row0_col6\" class=\"data row0 col6\" >20758.000000</td>\n",
       "      <td id=\"T_08fb8_row0_col7\" class=\"data row0 col7\" >20758.000000</td>\n",
       "      <td id=\"T_08fb8_row0_col8\" class=\"data row0 col8\" >20758.000000</td>\n",
       "    </tr>\n",
       "    <tr>\n",
       "      <th id=\"T_08fb8_level0_row1\" class=\"row_heading level0 row1\" >mean</th>\n",
       "      <td id=\"T_08fb8_row1_col0\" class=\"data row1 col0\" >10378.500000</td>\n",
       "      <td id=\"T_08fb8_row1_col1\" class=\"data row1 col1\" >23.841804</td>\n",
       "      <td id=\"T_08fb8_row1_col2\" class=\"data row1 col2\" >1.700245</td>\n",
       "      <td id=\"T_08fb8_row1_col3\" class=\"data row1 col3\" >87.887768</td>\n",
       "      <td id=\"T_08fb8_row1_col4\" class=\"data row1 col4\" >2.445908</td>\n",
       "      <td id=\"T_08fb8_row1_col5\" class=\"data row1 col5\" >2.761332</td>\n",
       "      <td id=\"T_08fb8_row1_col6\" class=\"data row1 col6\" >2.029418</td>\n",
       "      <td id=\"T_08fb8_row1_col7\" class=\"data row1 col7\" >0.981747</td>\n",
       "      <td id=\"T_08fb8_row1_col8\" class=\"data row1 col8\" >0.616756</td>\n",
       "    </tr>\n",
       "    <tr>\n",
       "      <th id=\"T_08fb8_level0_row2\" class=\"row_heading level0 row2\" >std</th>\n",
       "      <td id=\"T_08fb8_row2_col0\" class=\"data row2 col0\" >5992.462780</td>\n",
       "      <td id=\"T_08fb8_row2_col1\" class=\"data row2 col1\" >5.688072</td>\n",
       "      <td id=\"T_08fb8_row2_col2\" class=\"data row2 col2\" >0.087312</td>\n",
       "      <td id=\"T_08fb8_row2_col3\" class=\"data row2 col3\" >26.379443</td>\n",
       "      <td id=\"T_08fb8_row2_col4\" class=\"data row2 col4\" >0.533218</td>\n",
       "      <td id=\"T_08fb8_row2_col5\" class=\"data row2 col5\" >0.705375</td>\n",
       "      <td id=\"T_08fb8_row2_col6\" class=\"data row2 col6\" >0.608467</td>\n",
       "      <td id=\"T_08fb8_row2_col7\" class=\"data row2 col7\" >0.838302</td>\n",
       "      <td id=\"T_08fb8_row2_col8\" class=\"data row2 col8\" >0.602113</td>\n",
       "    </tr>\n",
       "    <tr>\n",
       "      <th id=\"T_08fb8_level0_row3\" class=\"row_heading level0 row3\" >min</th>\n",
       "      <td id=\"T_08fb8_row3_col0\" class=\"data row3 col0\" >0.000000</td>\n",
       "      <td id=\"T_08fb8_row3_col1\" class=\"data row3 col1\" >14.000000</td>\n",
       "      <td id=\"T_08fb8_row3_col2\" class=\"data row3 col2\" >1.450000</td>\n",
       "      <td id=\"T_08fb8_row3_col3\" class=\"data row3 col3\" >39.000000</td>\n",
       "      <td id=\"T_08fb8_row3_col4\" class=\"data row3 col4\" >1.000000</td>\n",
       "      <td id=\"T_08fb8_row3_col5\" class=\"data row3 col5\" >1.000000</td>\n",
       "      <td id=\"T_08fb8_row3_col6\" class=\"data row3 col6\" >1.000000</td>\n",
       "      <td id=\"T_08fb8_row3_col7\" class=\"data row3 col7\" >0.000000</td>\n",
       "      <td id=\"T_08fb8_row3_col8\" class=\"data row3 col8\" >0.000000</td>\n",
       "    </tr>\n",
       "    <tr>\n",
       "      <th id=\"T_08fb8_level0_row4\" class=\"row_heading level0 row4\" >25%</th>\n",
       "      <td id=\"T_08fb8_row4_col0\" class=\"data row4 col0\" >5189.250000</td>\n",
       "      <td id=\"T_08fb8_row4_col1\" class=\"data row4 col1\" >20.000000</td>\n",
       "      <td id=\"T_08fb8_row4_col2\" class=\"data row4 col2\" >1.631856</td>\n",
       "      <td id=\"T_08fb8_row4_col3\" class=\"data row4 col3\" >66.000000</td>\n",
       "      <td id=\"T_08fb8_row4_col4\" class=\"data row4 col4\" >2.000000</td>\n",
       "      <td id=\"T_08fb8_row4_col5\" class=\"data row4 col5\" >3.000000</td>\n",
       "      <td id=\"T_08fb8_row4_col6\" class=\"data row4 col6\" >1.792022</td>\n",
       "      <td id=\"T_08fb8_row4_col7\" class=\"data row4 col7\" >0.008013</td>\n",
       "      <td id=\"T_08fb8_row4_col8\" class=\"data row4 col8\" >0.000000</td>\n",
       "    </tr>\n",
       "    <tr>\n",
       "      <th id=\"T_08fb8_level0_row5\" class=\"row_heading level0 row5\" >50%</th>\n",
       "      <td id=\"T_08fb8_row5_col0\" class=\"data row5 col0\" >10378.500000</td>\n",
       "      <td id=\"T_08fb8_row5_col1\" class=\"data row5 col1\" >22.815416</td>\n",
       "      <td id=\"T_08fb8_row5_col2\" class=\"data row5 col2\" >1.700000</td>\n",
       "      <td id=\"T_08fb8_row5_col3\" class=\"data row5 col3\" >84.064875</td>\n",
       "      <td id=\"T_08fb8_row5_col4\" class=\"data row5 col4\" >2.393837</td>\n",
       "      <td id=\"T_08fb8_row5_col5\" class=\"data row5 col5\" >3.000000</td>\n",
       "      <td id=\"T_08fb8_row5_col6\" class=\"data row5 col6\" >2.000000</td>\n",
       "      <td id=\"T_08fb8_row5_col7\" class=\"data row5 col7\" >1.000000</td>\n",
       "      <td id=\"T_08fb8_row5_col8\" class=\"data row5 col8\" >0.573887</td>\n",
       "    </tr>\n",
       "    <tr>\n",
       "      <th id=\"T_08fb8_level0_row6\" class=\"row_heading level0 row6\" >75%</th>\n",
       "      <td id=\"T_08fb8_row6_col0\" class=\"data row6 col0\" >15567.750000</td>\n",
       "      <td id=\"T_08fb8_row6_col1\" class=\"data row6 col1\" >26.000000</td>\n",
       "      <td id=\"T_08fb8_row6_col2\" class=\"data row6 col2\" >1.762887</td>\n",
       "      <td id=\"T_08fb8_row6_col3\" class=\"data row6 col3\" >111.600553</td>\n",
       "      <td id=\"T_08fb8_row6_col4\" class=\"data row6 col4\" >3.000000</td>\n",
       "      <td id=\"T_08fb8_row6_col5\" class=\"data row6 col5\" >3.000000</td>\n",
       "      <td id=\"T_08fb8_row6_col6\" class=\"data row6 col6\" >2.549617</td>\n",
       "      <td id=\"T_08fb8_row6_col7\" class=\"data row6 col7\" >1.587406</td>\n",
       "      <td id=\"T_08fb8_row6_col8\" class=\"data row6 col8\" >1.000000</td>\n",
       "    </tr>\n",
       "    <tr>\n",
       "      <th id=\"T_08fb8_level0_row7\" class=\"row_heading level0 row7\" >max</th>\n",
       "      <td id=\"T_08fb8_row7_col0\" class=\"data row7 col0\" >20757.000000</td>\n",
       "      <td id=\"T_08fb8_row7_col1\" class=\"data row7 col1\" >61.000000</td>\n",
       "      <td id=\"T_08fb8_row7_col2\" class=\"data row7 col2\" >1.975663</td>\n",
       "      <td id=\"T_08fb8_row7_col3\" class=\"data row7 col3\" >165.057269</td>\n",
       "      <td id=\"T_08fb8_row7_col4\" class=\"data row7 col4\" >3.000000</td>\n",
       "      <td id=\"T_08fb8_row7_col5\" class=\"data row7 col5\" >4.000000</td>\n",
       "      <td id=\"T_08fb8_row7_col6\" class=\"data row7 col6\" >3.000000</td>\n",
       "      <td id=\"T_08fb8_row7_col7\" class=\"data row7 col7\" >3.000000</td>\n",
       "      <td id=\"T_08fb8_row7_col8\" class=\"data row7 col8\" >2.000000</td>\n",
       "    </tr>\n",
       "  </tbody>\n",
       "</table>\n"
      ],
      "text/plain": [
       "<pandas.io.formats.style.Styler at 0x7cc29024a950>"
      ]
     },
     "metadata": {},
     "output_type": "display_data"
    }
   ],
   "source": [
    "summary_statistics = train_data.describe().style.background_gradient(cmap='viridis')\n",
    "display(summary_statistics)\n"
   ]
  },
  {
   "cell_type": "markdown",
   "id": "8002e430",
   "metadata": {
    "papermill": {
     "duration": 0.011967,
     "end_time": "2024-02-21T05:45:01.506512",
     "exception": false,
     "start_time": "2024-02-21T05:45:01.494545",
     "status": "completed"
    },
    "tags": []
   },
   "source": [
    "**Check for missing values**\n",
    "\n"
   ]
  },
  {
   "cell_type": "code",
   "execution_count": 5,
   "id": "0f2249b9",
   "metadata": {
    "execution": {
     "iopub.execute_input": "2024-02-21T05:45:01.533682Z",
     "iopub.status.busy": "2024-02-21T05:45:01.532678Z",
     "iopub.status.idle": "2024-02-21T05:45:01.560697Z",
     "shell.execute_reply": "2024-02-21T05:45:01.559505Z"
    },
    "papermill": {
     "duration": 0.044424,
     "end_time": "2024-02-21T05:45:01.563428",
     "exception": false,
     "start_time": "2024-02-21T05:45:01.519004",
     "status": "completed"
    },
    "tags": []
   },
   "outputs": [
    {
     "name": "stdout",
     "output_type": "stream",
     "text": [
      "Total number of null values in the dataset: 0\n"
     ]
    }
   ],
   "source": [
    "total_null_values = train_data.isnull().sum().sum()\n",
    "print(f\"Total number of null values in the dataset: {total_null_values}\")\n"
   ]
  },
  {
   "cell_type": "markdown",
   "id": "2b1f6eb7",
   "metadata": {
    "papermill": {
     "duration": 0.011738,
     "end_time": "2024-02-21T05:45:01.587392",
     "exception": false,
     "start_time": "2024-02-21T05:45:01.575654",
     "status": "completed"
    },
    "tags": []
   },
   "source": [
    "#  Data visualization"
   ]
  },
  {
   "cell_type": "markdown",
   "id": "13a8b95c",
   "metadata": {
    "papermill": {
     "duration": 0.011746,
     "end_time": "2024-02-21T05:45:01.612010",
     "exception": false,
     "start_time": "2024-02-21T05:45:01.600264",
     "status": "completed"
    },
    "tags": []
   },
   "source": [
    "**distribution of the target variable**"
   ]
  },
  {
   "cell_type": "code",
   "execution_count": 6,
   "id": "a5a47d01",
   "metadata": {
    "execution": {
     "iopub.execute_input": "2024-02-21T05:45:01.638465Z",
     "iopub.status.busy": "2024-02-21T05:45:01.637375Z",
     "iopub.status.idle": "2024-02-21T05:45:01.963170Z",
     "shell.execute_reply": "2024-02-21T05:45:01.962035Z"
    },
    "papermill": {
     "duration": 0.342277,
     "end_time": "2024-02-21T05:45:01.966334",
     "exception": false,
     "start_time": "2024-02-21T05:45:01.624057",
     "status": "completed"
    },
    "tags": []
   },
   "outputs": [
    {
     "data": {
      "image/png": "[encoded data removed]",
      "text/plain": [
       "<Figure size 640x480 with 1 Axes>"
      ]
     },
     "metadata": {},
     "output_type": "display_data"
    }
   ],
   "source": [
    "target_distribution = train_data['NObeyesdad'].value_counts()\n",
    "plt.pie(target_distribution, labels=target_distribution.index, autopct='%1.1f%%', startangle=90)\n",
    "plt.title('Distribution of Target Variable')\n",
    "plt.show()\n"
   ]
  },
  {
   "cell_type": "markdown",
   "id": "b507edee",
   "metadata": {
    "papermill": {
     "duration": 0.013148,
     "end_time": "2024-02-21T05:45:01.992760",
     "exception": false,
     "start_time": "2024-02-21T05:45:01.979612",
     "status": "completed"
    },
    "tags": []
   },
   "source": [
    "**Cramér's V correlation matrix**"
   ]
  },
  {
   "cell_type": "code",
   "execution_count": 7,
   "id": "4d053796",
   "metadata": {
    "execution": {
     "iopub.execute_input": "2024-02-21T05:45:02.021781Z",
     "iopub.status.busy": "2024-02-21T05:45:02.020927Z",
     "iopub.status.idle": "2024-02-21T05:45:03.621143Z",
     "shell.execute_reply": "2024-02-21T05:45:03.620016Z"
    },
    "papermill": {
     "duration": 1.617662,
     "end_time": "2024-02-21T05:45:03.624031",
     "exception": false,
     "start_time": "2024-02-21T05:45:02.006369",
     "status": "completed"
    },
    "tags": []
   },
   "outputs": [
    {
     "data": {
      "image/png": "[encoded data removed]",
      "text/plain": [
       "<Figure size 640x480 with 2 Axes>"
      ]
     },
     "metadata": {},
     "output_type": "display_data"
    }
   ],
   "source": [
    "def cramers_v(confusion_matrix):\n",
    "    chi2 = chi2_contingency(confusion_matrix)[0]\n",
    "    n = confusion_matrix.sum().sum()\n",
    "    phi2 = chi2 / n\n",
    "    r, k = confusion_matrix.shape\n",
    "    phi2corr = max(0, phi2 - ((k-1)*(r-1))/(n-1))\n",
    "    rcorr = r - ((r-1)**2)/(n-1)\n",
    "    kcorr = k - ((k-1)**2)/(n-1)\n",
    "    return np.sqrt(phi2corr / min((kcorr-1), (rcorr-1)))\n",
    "\n",
    "def cramers_v_matrix(df):\n",
    "    categories = df.select_dtypes(include=['object']).columns\n",
    "    n = len(categories)\n",
    "    v_matrix = np.zeros((n, n))\n",
    "\n",
    "    for i in range(n):\n",
    "        for j in range(n):\n",
    "            confusion_matrix = pd.crosstab(df[categories[i]], df[categories[j]])\n",
    "            v_matrix[i, j] = cramers_v(confusion_matrix)\n",
    "\n",
    "    return pd.DataFrame(v_matrix, index=categories, columns=categories)\n",
    "\n",
    "cramers_v_matrix = cramers_v_matrix(train_data)\n",
    "sns.heatmap(cramers_v_matrix, annot=True, cmap='coolwarm', fmt=\".2f\")\n",
    "plt.title(\"Cramér's V Correlation Matrix\")\n",
    "plt.show()"
   ]
  },
  {
   "cell_type": "markdown",
   "id": "503fce84",
   "metadata": {
    "papermill": {
     "duration": 0.01436,
     "end_time": "2024-02-21T05:45:03.653930",
     "exception": false,
     "start_time": "2024-02-21T05:45:03.639570",
     "status": "completed"
    },
    "tags": []
   },
   "source": [
    "#  Data scaling"
   ]
  },
  {
   "cell_type": "markdown",
   "id": "7ac57788",
   "metadata": {
    "papermill": {
     "duration": 0.014222,
     "end_time": "2024-02-21T05:45:03.683681",
     "exception": false,
     "start_time": "2024-02-21T05:45:03.669459",
     "status": "completed"
    },
    "tags": []
   },
   "source": [
    "**Apply Standard Scaling to numerical features**"
   ]
  },
  {
   "cell_type": "code",
   "execution_count": 8,
   "id": "f311218c",
   "metadata": {
    "execution": {
     "iopub.execute_input": "2024-02-21T05:45:03.715376Z",
     "iopub.status.busy": "2024-02-21T05:45:03.714953Z",
     "iopub.status.idle": "2024-02-21T05:45:03.732897Z",
     "shell.execute_reply": "2024-02-21T05:45:03.731606Z"
    },
    "papermill": {
     "duration": 0.03773,
     "end_time": "2024-02-21T05:45:03.735817",
     "exception": false,
     "start_time": "2024-02-21T05:45:03.698087",
     "status": "completed"
    },
    "tags": []
   },
   "outputs": [],
   "source": [
    "scaler = StandardScaler()\n",
    "numerical_features = train_data.select_dtypes(include=['float64']).columns\n",
    "train_data[numerical_features] = scaler.fit_transform(train_data[numerical_features])\n",
    "test_data[numerical_features] = scaler.transform(test_data[numerical_features])\n"
   ]
  },
  {
   "cell_type": "markdown",
   "id": "e81fa4fc",
   "metadata": {
    "papermill": {
     "duration": 0.017173,
     "end_time": "2024-02-21T05:45:03.767929",
     "exception": false,
     "start_time": "2024-02-21T05:45:03.750756",
     "status": "completed"
    },
    "tags": []
   },
   "source": [
    "# Feature engineering\n"
   ]
  },
  {
   "cell_type": "markdown",
   "id": "668df15e",
   "metadata": {
    "papermill": {
     "duration": 0.018828,
     "end_time": "2024-02-21T05:45:03.802631",
     "exception": false,
     "start_time": "2024-02-21T05:45:03.783803",
     "status": "completed"
    },
    "tags": []
   },
   "source": [
    "**Combine train and test sets**"
   ]
  },
  {
   "cell_type": "code",
   "execution_count": 9,
   "id": "bd2cb8a2",
   "metadata": {
    "execution": {
     "iopub.execute_input": "2024-02-21T05:45:03.846653Z",
     "iopub.status.busy": "2024-02-21T05:45:03.845348Z",
     "iopub.status.idle": "2024-02-21T05:45:03.857208Z",
     "shell.execute_reply": "2024-02-21T05:45:03.855973Z"
    },
    "papermill": {
     "duration": 0.037772,
     "end_time": "2024-02-21T05:45:03.860074",
     "exception": false,
     "start_time": "2024-02-21T05:45:03.822302",
     "status": "completed"
    },
    "tags": []
   },
   "outputs": [],
   "source": [
    "combined_data = pd.concat([train_data, test_data], ignore_index=True)"
   ]
  },
  {
   "cell_type": "code",
   "execution_count": 10,
   "id": "2937b133",
   "metadata": {
    "execution": {
     "iopub.execute_input": "2024-02-21T05:45:03.892907Z",
     "iopub.status.busy": "2024-02-21T05:45:03.891911Z",
     "iopub.status.idle": "2024-02-21T05:45:04.031018Z",
     "shell.execute_reply": "2024-02-21T05:45:04.029761Z"
    },
    "papermill": {
     "duration": 0.158832,
     "end_time": "2024-02-21T05:45:04.034251",
     "exception": false,
     "start_time": "2024-02-21T05:45:03.875419",
     "status": "completed"
    },
    "tags": []
   },
   "outputs": [],
   "source": [
    "le = LabelEncoder()\n",
    "categorical_features = combined_data.select_dtypes(include=['object']).columns\n",
    "\n",
    "for feature in categorical_features:\n",
    "    combined_data[feature] = le.fit_transform(combined_data[feature].astype(str))\n",
    "\n"
   ]
  },
  {
   "cell_type": "markdown",
   "id": "3668a293",
   "metadata": {
    "papermill": {
     "duration": 0.014134,
     "end_time": "2024-02-21T05:45:04.062941",
     "exception": false,
     "start_time": "2024-02-21T05:45:04.048807",
     "status": "completed"
    },
    "tags": []
   },
   "source": [
    "**Split back to train and test sets**"
   ]
  },
  {
   "cell_type": "code",
   "execution_count": 11,
   "id": "929a6169",
   "metadata": {
    "execution": {
     "iopub.execute_input": "2024-02-21T05:45:04.093702Z",
     "iopub.status.busy": "2024-02-21T05:45:04.093266Z",
     "iopub.status.idle": "2024-02-21T05:45:04.099835Z",
     "shell.execute_reply": "2024-02-21T05:45:04.098644Z"
    },
    "papermill": {
     "duration": 0.024656,
     "end_time": "2024-02-21T05:45:04.102157",
     "exception": false,
     "start_time": "2024-02-21T05:45:04.077501",
     "status": "completed"
    },
    "tags": []
   },
   "outputs": [],
   "source": [
    "train_data = combined_data.iloc[:len(train_data)]\n",
    "test_data = combined_data.iloc[len(train_data):]"
   ]
  },
  {
   "cell_type": "markdown",
   "id": "6c425477",
   "metadata": {
    "papermill": {
     "duration": 0.02014,
     "end_time": "2024-02-21T05:45:04.140465",
     "exception": false,
     "start_time": "2024-02-21T05:45:04.120325",
     "status": "completed"
    },
    "tags": []
   },
   "source": [
    "#  Model building and training"
   ]
  },
  {
   "cell_type": "markdown",
   "id": "f17db798",
   "metadata": {
    "papermill": {
     "duration": 0.020267,
     "end_time": "2024-02-21T05:45:04.181675",
     "exception": false,
     "start_time": "2024-02-21T05:45:04.161408",
     "status": "completed"
    },
    "tags": []
   },
   "source": [
    "**Split the data into features and target**"
   ]
  },
  {
   "cell_type": "code",
   "execution_count": 12,
   "id": "af4b4260",
   "metadata": {
    "execution": {
     "iopub.execute_input": "2024-02-21T05:45:04.213147Z",
     "iopub.status.busy": "2024-02-21T05:45:04.212758Z",
     "iopub.status.idle": "2024-02-21T05:45:04.222361Z",
     "shell.execute_reply": "2024-02-21T05:45:04.220740Z"
    },
    "papermill": {
     "duration": 0.028742,
     "end_time": "2024-02-21T05:45:04.225641",
     "exception": false,
     "start_time": "2024-02-21T05:45:04.196899",
     "status": "completed"
    },
    "tags": []
   },
   "outputs": [],
   "source": [
    "X = train_data.drop(['id', 'NObeyesdad'], axis=1)\n",
    "y = train_data['NObeyesdad']\n"
   ]
  },
  {
   "cell_type": "markdown",
   "id": "23048a81",
   "metadata": {
    "papermill": {
     "duration": 0.021011,
     "end_time": "2024-02-21T05:45:04.267161",
     "exception": false,
     "start_time": "2024-02-21T05:45:04.246150",
     "status": "completed"
    },
    "tags": []
   },
   "source": [
    "**Split the data into training and validation sets**"
   ]
  },
  {
   "cell_type": "code",
   "execution_count": 13,
   "id": "f00557b1",
   "metadata": {
    "execution": {
     "iopub.execute_input": "2024-02-21T05:45:04.299157Z",
     "iopub.status.busy": "2024-02-21T05:45:04.298028Z",
     "iopub.status.idle": "2024-02-21T05:45:04.311898Z",
     "shell.execute_reply": "2024-02-21T05:45:04.310948Z"
    },
    "papermill": {
     "duration": 0.032377,
     "end_time": "2024-02-21T05:45:04.314498",
     "exception": false,
     "start_time": "2024-02-21T05:45:04.282121",
     "status": "completed"
    },
    "tags": []
   },
   "outputs": [],
   "source": [
    "X_train, X_val, y_train, y_val = train_test_split(X, y, test_size=0.2, random_state=42)\n"
   ]
  },
  {
   "cell_type": "markdown",
   "id": "afedfb18",
   "metadata": {
    "papermill": {
     "duration": 0.014525,
     "end_time": "2024-02-21T05:45:04.343366",
     "exception": false,
     "start_time": "2024-02-21T05:45:04.328841",
     "status": "completed"
    },
    "tags": []
   },
   "source": [
    "**Define the objective function for Optuna for XGBoost**"
   ]
  },
  {
   "cell_type": "code",
   "execution_count": 14,
   "id": "658263ac",
   "metadata": {
    "execution": {
     "iopub.execute_input": "2024-02-21T05:45:04.374922Z",
     "iopub.status.busy": "2024-02-21T05:45:04.374085Z",
     "iopub.status.idle": "2024-02-21T05:45:04.384744Z",
     "shell.execute_reply": "2024-02-21T05:45:04.383670Z"
    },
    "papermill": {
     "duration": 0.029451,
     "end_time": "2024-02-21T05:45:04.387432",
     "exception": false,
     "start_time": "2024-02-21T05:45:04.357981",
     "status": "completed"
    },
    "tags": []
   },
   "outputs": [],
   "source": [
    "def objective(trial):\n",
    "    params = {\n",
    "        'objective': 'multi:softmax',\n",
    "        'num_class': len(train_data['NObeyesdad'].unique()),\n",
    "        'booster': 'gbtree',\n",
    "        'lambda': trial.suggest_float('lambda', 1e-8, 1.0, log=True),\n",
    "        'alpha': trial.suggest_float('alpha', 1e-8, 1.0, log=True),\n",
    "        'max_depth': trial.suggest_int('max_depth', 3, 9),\n",
    "        'eta': trial.suggest_float('eta', 0.01, 1.0, log=True),\n",
    "        'gamma': trial.suggest_float('gamma', 0.01, 1.0, log=True),\n",
    "        'colsample_bytree': trial.suggest_float('colsample_bytree', 0.1, 1.0),\n",
    "        'subsample': trial.suggest_float('subsample', 0.1, 1.0),\n",
    "        'min_child_weight': trial.suggest_float('min_child_weight', 1, 10)\n",
    "    }\n",
    "\n",
    "    dtrain = xgb.DMatrix(X_train, label=y_train)\n",
    "    dval = xgb.DMatrix(X_val, label=y_val)\n",
    "\n",
    "    model = xgb.train(params, dtrain, evals=[(dval, 'eval')], early_stopping_rounds=20, verbose_eval=False)\n",
    "    y_pred = model.predict(dval)\n",
    "\n",
    "    accuracy = accuracy_score(y_val, y_pred)\n",
    "    return accuracy"
   ]
  },
  {
   "cell_type": "markdown",
   "id": "33c6d365",
   "metadata": {
    "papermill": {
     "duration": 0.015269,
     "end_time": "2024-02-21T05:45:04.417302",
     "exception": false,
     "start_time": "2024-02-21T05:45:04.402033",
     "status": "completed"
    },
    "tags": []
   },
   "source": [
    "**Create the Optuna study for XGBoost**"
   ]
  },
  {
   "cell_type": "code",
   "execution_count": 15,
   "id": "3ecbd006",
   "metadata": {
    "execution": {
     "iopub.execute_input": "2024-02-21T05:45:04.448897Z",
     "iopub.status.busy": "2024-02-21T05:45:04.448074Z",
     "iopub.status.idle": "2024-02-21T05:45:25.578863Z",
     "shell.execute_reply": "2024-02-21T05:45:25.577515Z"
    },
    "papermill": {
     "duration": 21.149798,
     "end_time": "2024-02-21T05:45:25.581825",
     "exception": false,
     "start_time": "2024-02-21T05:45:04.432027",
     "status": "completed"
    },
    "tags": []
   },
   "outputs": [
    {
     "name": "stdout",
     "output_type": "stream",
     "text": [
      "Best parameters: {'lambda': 6.150424880753579e-05, 'alpha': 0.2022565237865206, 'max_depth': 6, 'eta': 0.5171327948651021, 'gamma': 0.015136404313914659, 'colsample_bytree': 0.782506369729864, 'subsample': 0.7142701778150642, 'min_child_weight': 1.9644051221419732}\n"
     ]
    }
   ],
   "source": [
    "study = optuna.create_study(direction='maximize', study_name='your_study_name', storage='sqlite:///your_study.db', load_if_exists=True)\n",
    "study.optimize(objective, n_trials=50)\n",
    "best_params = study.best_params\n",
    "print(f\"Best parameters: {best_params}\")\n",
    "\n"
   ]
  },
  {
   "cell_type": "markdown",
   "id": "d4b438d8",
   "metadata": {
    "papermill": {
     "duration": 0.014059,
     "end_time": "2024-02-21T05:45:25.610476",
     "exception": false,
     "start_time": "2024-02-21T05:45:25.596417",
     "status": "completed"
    },
    "tags": []
   },
   "source": [
    "**Train the final XGBoost  model with the best parameters**"
   ]
  },
  {
   "cell_type": "code",
   "execution_count": 16,
   "id": "6f182594",
   "metadata": {
    "execution": {
     "iopub.execute_input": "2024-02-21T05:45:25.641712Z",
     "iopub.status.busy": "2024-02-21T05:45:25.640767Z",
     "iopub.status.idle": "2024-02-21T05:45:26.514946Z",
     "shell.execute_reply": "2024-02-21T05:45:26.513960Z"
    },
    "papermill": {
     "duration": 0.892592,
     "end_time": "2024-02-21T05:45:26.517617",
     "exception": false,
     "start_time": "2024-02-21T05:45:25.625025",
     "status": "completed"
    },
    "tags": []
   },
   "outputs": [],
   "source": [
    "final_params = {\n",
    "    'objective': 'multi:softmax',\n",
    "    'num_class': len(train_data['NObeyesdad'].unique()),\n",
    "    **best_params\n",
    "}\n",
    "final_model = xgb.train(final_params, xgb.DMatrix(X, label=y), num_boost_round=50)\n"
   ]
  },
  {
   "cell_type": "markdown",
   "id": "2817012b",
   "metadata": {
    "papermill": {
     "duration": 0.013948,
     "end_time": "2024-02-21T05:45:26.547232",
     "exception": false,
     "start_time": "2024-02-21T05:45:26.533284",
     "status": "completed"
    },
    "tags": []
   },
   "source": [
    "**Make predictions on the test set using XGBoost**"
   ]
  },
  {
   "cell_type": "code",
   "execution_count": 17,
   "id": "bb442c1a",
   "metadata": {
    "execution": {
     "iopub.execute_input": "2024-02-21T05:45:26.577732Z",
     "iopub.status.busy": "2024-02-21T05:45:26.577310Z",
     "iopub.status.idle": "2024-02-21T05:45:26.642922Z",
     "shell.execute_reply": "2024-02-21T05:45:26.641779Z"
    },
    "papermill": {
     "duration": 0.084118,
     "end_time": "2024-02-21T05:45:26.645821",
     "exception": false,
     "start_time": "2024-02-21T05:45:26.561703",
     "status": "completed"
    },
    "tags": []
   },
   "outputs": [],
   "source": [
    "X_test = test_data.drop(['id', 'NObeyesdad'], axis=1)\n",
    "dtest = xgb.DMatrix(X_test)\n",
    "test_predictions = final_model.predict(dtest)\n",
    "\n"
   ]
  },
  {
   "cell_type": "markdown",
   "id": "5ea5d764",
   "metadata": {
    "papermill": {
     "duration": 0.014887,
     "end_time": "2024-02-21T05:45:26.677025",
     "exception": false,
     "start_time": "2024-02-21T05:45:26.662138",
     "status": "completed"
    },
    "tags": []
   },
   "source": [
    "# Create the submission file"
   ]
  },
  {
   "cell_type": "code",
   "execution_count": 18,
   "id": "10f4ec94",
   "metadata": {
    "execution": {
     "iopub.execute_input": "2024-02-21T05:45:26.707879Z",
     "iopub.status.busy": "2024-02-21T05:45:26.707432Z",
     "iopub.status.idle": "2024-02-21T05:45:26.745843Z",
     "shell.execute_reply": "2024-02-21T05:45:26.744876Z"
    },
    "papermill": {
     "duration": 0.056895,
     "end_time": "2024-02-21T05:45:26.748469",
     "exception": false,
     "start_time": "2024-02-21T05:45:26.691574",
     "status": "completed"
    },
    "tags": []
   },
   "outputs": [],
   "source": [
    "submission = pd.DataFrame({'id': test_data['id'], 'NObeyesdad': le.inverse_transform(test_predictions.astype(int))})\n",
    "submission.to_csv('submission.csv', index=False)"
   ]
  },
  {
   "cell_type": "code",
   "execution_count": null,
   "id": "dd04e467",
   "metadata": {
    "papermill": {
     "duration": 0.01394,
     "end_time": "2024-02-21T05:45:26.776895",
     "exception": false,
     "start_time": "2024-02-21T05:45:26.762955",
     "status": "completed"
    },
    "tags": []
   },
   "outputs": [],
   "source": []
  }
 ],
 "metadata": {
  "kaggle": {
   "accelerator": "none",
   "dataSources": [
    {
     "databundleVersionId": 7609535,
     "sourceId": 68479,
     "sourceType": "competition"
    }
   ],
   "dockerImageVersionId": 30646,
   "isGpuEnabled": false,
   "isInternetEnabled": true,
   "language": "python",
   "sourceType": "notebook"
  },
  "kernelspec": {
   "display_name": "Python 3",
   "language": "python",
   "name": "python3"
  },
  "language_info": {
   "codemirror_mode": {
    "name": "ipython",
    "version": 3
   },
   "file_extension": ".py",
   "mimetype": "text/x-python",
   "name": "python",
   "nbconvert_exporter": "python",
   "pygments_lexer": "ipython3",
   "version": "3.10.13"
  },
  "papermill": {
   "default_parameters": {},
   "duration": 34.463412,
   "end_time": "2024-02-21T05:45:27.713720",
   "environment_variables": {},
   "exception": null,
   "input_path": "__notebook__.ipynb",
   "output_path": "__notebook__.ipynb",
   "parameters": {},
   "start_time": "2024-02-21T05:44:53.250308",
   "version": "2.5.0"
  }
 },
 "nbformat": 4,
 "nbformat_minor": 5
}
