{
 "cells": [
  {
   "cell_type": "code",
   "execution_count": 1,
   "id": "1a3b1ef9",
   "metadata": {
    "_cell_guid": "b1076dfc-b9ad-4769-8c92-a6c4dae69d19",
    "_uuid": "8f2839f25d086af736a60e9eeb907d3b93b6e0e5",
    "execution": {
     "iopub.execute_input": "2024-02-24T06:54:26.557368Z",
     "iopub.status.busy": "2024-02-24T06:54:26.556621Z",
     "iopub.status.idle": "2024-02-24T06:54:30.068568Z",
     "shell.execute_reply": "2024-02-24T06:54:30.067353Z"
    },
    "papermill": {
     "duration": 3.522652,
     "end_time": "2024-02-24T06:54:30.071580",
     "exception": false,
     "start_time": "2024-02-24T06:54:26.548928",
     "status": "completed"
    },
    "tags": []
   },
   "outputs": [],
   "source": [
    "import pandas as pd\n",
    "import numpy as np\n",
    "from sklearn.preprocessing import LabelEncoder, StandardScaler\n",
    "from sklearn.model_selection import KFold\n",
    "from sklearn.metrics import accuracy_score\n",
    "import lightgbm as lgb\n"
   ]
  },
  {
   "cell_type": "code",
   "execution_count": 2,
   "id": "de483756",
   "metadata": {
    "execution": {
     "iopub.execute_input": "2024-02-24T06:54:30.084392Z",
     "iopub.status.busy": "2024-02-24T06:54:30.083960Z",
     "iopub.status.idle": "2024-02-24T06:54:30.315653Z",
     "shell.execute_reply": "2024-02-24T06:54:30.314604Z"
    },
    "papermill": {
     "duration": 0.240786,
     "end_time": "2024-02-24T06:54:30.318133",
     "exception": false,
     "start_time": "2024-02-24T06:54:30.077347",
     "status": "completed"
    },
    "tags": []
   },
   "outputs": [],
   "source": [
    "# Load Data\n",
    "train_data = pd.read_csv(\"/kaggle/input/playground-series-s4e2/train.csv\")\n",
    "test_data = pd.read_csv(\"/kaggle/input/playground-series-s4e2/test.csv\")\n",
    "original_data = pd.read_csv(\"/kaggle/input/obesity-or-cvd-risk-classifyregressorcluster/ObesityDataSet.csv\")\n",
    "sample_submission_data = pd.read_csv(\"/kaggle/input/playground-series-s4e2/sample_submission.csv\")\n"
   ]
  },
  {
   "cell_type": "code",
   "execution_count": 3,
   "id": "92063952",
   "metadata": {
    "execution": {
     "iopub.execute_input": "2024-02-24T06:54:30.330476Z",
     "iopub.status.busy": "2024-02-24T06:54:30.329884Z",
     "iopub.status.idle": "2024-02-24T06:54:30.388679Z",
     "shell.execute_reply": "2024-02-24T06:54:30.387633Z"
    },
    "papermill": {
     "duration": 0.06804,
     "end_time": "2024-02-24T06:54:30.391415",
     "exception": false,
     "start_time": "2024-02-24T06:54:30.323375",
     "status": "completed"
    },
    "tags": []
   },
   "outputs": [],
   "source": [
    "# Merge Data\n",
    "train_data = train_data.drop(\"id\", axis=1)\n",
    "train_data = pd.concat([train_data, original_data], ignore_index=True).drop_duplicates()\n"
   ]
  },
  {
   "cell_type": "code",
   "execution_count": 4,
   "id": "dafc49b0",
   "metadata": {
    "execution": {
     "iopub.execute_input": "2024-02-24T06:54:30.403720Z",
     "iopub.status.busy": "2024-02-24T06:54:30.403303Z",
     "iopub.status.idle": "2024-02-24T06:54:30.422594Z",
     "shell.execute_reply": "2024-02-24T06:54:30.421553Z"
    },
    "papermill": {
     "duration": 0.028434,
     "end_time": "2024-02-24T06:54:30.425205",
     "exception": false,
     "start_time": "2024-02-24T06:54:30.396771",
     "status": "completed"
    },
    "tags": []
   },
   "outputs": [],
   "source": [
    "# Feature Scaling\n",
    "scaler = StandardScaler()\n",
    "num_cols = list(train_data.select_dtypes(exclude=['object']).columns)\n",
    "train_data[num_cols] = scaler.fit_transform(train_data[num_cols])\n",
    "test_data[num_cols] = scaler.transform(test_data[num_cols])\n"
   ]
  },
  {
   "cell_type": "code",
   "execution_count": 5,
   "id": "d49ca7c0",
   "metadata": {
    "execution": {
     "iopub.execute_input": "2024-02-24T06:54:30.437502Z",
     "iopub.status.busy": "2024-02-24T06:54:30.437072Z",
     "iopub.status.idle": "2024-02-24T06:54:30.534269Z",
     "shell.execute_reply": "2024-02-24T06:54:30.533271Z"
    },
    "papermill": {
     "duration": 0.106499,
     "end_time": "2024-02-24T06:54:30.536958",
     "exception": false,
     "start_time": "2024-02-24T06:54:30.430459",
     "status": "completed"
    },
    "tags": []
   },
   "outputs": [],
   "source": [
    "# Encoding Categorical Variables\n",
    "labelencoder = LabelEncoder()\n",
    "object_columns = train_data.select_dtypes(include='object').columns.difference(['NObeyesdad'])\n",
    "\n",
    "for col_name in object_columns:\n",
    "    if train_data[col_name].dtypes == 'object':\n",
    "        train_data[col_name] = labelencoder.fit_transform(train_data[col_name])\n",
    "        test_data[col_name] = labelencoder.transform(test_data[col_name])\n"
   ]
  },
  {
   "cell_type": "code",
   "execution_count": 6,
   "id": "0e38d21e",
   "metadata": {
    "execution": {
     "iopub.execute_input": "2024-02-24T06:54:30.549122Z",
     "iopub.status.busy": "2024-02-24T06:54:30.548724Z",
     "iopub.status.idle": "2024-02-24T06:54:30.566257Z",
     "shell.execute_reply": "2024-02-24T06:54:30.564900Z"
    },
    "papermill": {
     "duration": 0.026587,
     "end_time": "2024-02-24T06:54:30.568782",
     "exception": false,
     "start_time": "2024-02-24T06:54:30.542195",
     "status": "completed"
    },
    "tags": []
   },
   "outputs": [],
   "source": [
    "# Define Features and Target\n",
    "X = train_data.drop(['NObeyesdad'], axis=1)\n",
    "y = labelencoder.fit_transform(train_data['NObeyesdad'])\n",
    "X_test = test_data.drop([\"id\"], axis=1)\n"
   ]
  },
  {
   "cell_type": "code",
   "execution_count": 7,
   "id": "0410c242",
   "metadata": {
    "execution": {
     "iopub.execute_input": "2024-02-24T06:54:30.582098Z",
     "iopub.status.busy": "2024-02-24T06:54:30.581206Z",
     "iopub.status.idle": "2024-02-24T06:54:30.587485Z",
     "shell.execute_reply": "2024-02-24T06:54:30.586555Z"
    },
    "papermill": {
     "duration": 0.015476,
     "end_time": "2024-02-24T06:54:30.589667",
     "exception": false,
     "start_time": "2024-02-24T06:54:30.574191",
     "status": "completed"
    },
    "tags": []
   },
   "outputs": [],
   "source": [
    "# Define LightGBM model parameters\n",
    "param = {\n",
    "    \"objective\": \"multiclass\",\n",
    "    \"metric\": \"multi_logloss\",\n",
    "    \"verbosity\": -1,\n",
    "    \"boosting_type\": \"gbdt\",\n",
    "    \"random_state\": 42,\n",
    "    \"num_class\": 7,\n",
    "    'learning_rate': 0.030962211546832760,\n",
    "    'n_estimators': 500,\n",
    "    'lambda_l1': 0.009667446568254372,\n",
    "    'lambda_l2': 0.04018641437301800,\n",
    "    'max_depth': 10,\n",
    "    'colsample_bytree': 0.40977129346872643,\n",
    "    'subsample': 0.9535797422450176,\n",
    "    'min_child_samples': 26\n",
    "}"
   ]
  },
  {
   "cell_type": "code",
   "execution_count": 8,
   "id": "ee201867",
   "metadata": {
    "execution": {
     "iopub.execute_input": "2024-02-24T06:54:30.602800Z",
     "iopub.status.busy": "2024-02-24T06:54:30.602429Z",
     "iopub.status.idle": "2024-02-24T06:57:53.684323Z",
     "shell.execute_reply": "2024-02-24T06:57:53.683383Z"
    },
    "papermill": {
     "duration": 203.091659,
     "end_time": "2024-02-24T06:57:53.687090",
     "exception": false,
     "start_time": "2024-02-24T06:54:30.595431",
     "status": "completed"
    },
    "tags": []
   },
   "outputs": [],
   "source": [
    "# Define K-Fold Cross-Validation\n",
    "num_folds = 10\n",
    "kf = KFold(n_splits=num_folds, shuffle=True, random_state=42)\n",
    "\n",
    "# Initialize lists to store validation accuracies and predictions\n",
    "val_accuracies = []\n",
    "test_preds = []\n",
    "\n",
    "# Perform K-Fold Cross-Validation\n",
    "for train_index, val_index in kf.split(X):\n",
    "    X_train, X_val = X.iloc[train_index], X.iloc[val_index]\n",
    "    y_train, y_val = y[train_index], y[val_index]\n",
    "    \n",
    "    # Train LightGBM model\n",
    "    model_lgb = lgb.LGBMClassifier(**param, verbose=100)\n",
    "    model_lgb.fit(X_train, y_train)\n",
    "    \n",
    "    # Make predictions on validation set\n",
    "    pred_proba = model_lgb.predict_proba(X_val)\n",
    "    y_pred = np.argmax(pred_proba, axis=1)\n",
    "    \n",
    "    # Calculate accuracy and store\n",
    "    val_accuracy = accuracy_score(y_val, y_pred)\n",
    "    val_accuracies.append(val_accuracy)\n",
    "    \n",
    "    # Make predictions on test set\n",
    "    test_pred_proba = model_lgb.predict_proba(X_test)\n",
    "    test_preds.append(test_pred_proba)\n"
   ]
  },
  {
   "cell_type": "code",
   "execution_count": 9,
   "id": "c84df7fa",
   "metadata": {
    "execution": {
     "iopub.execute_input": "2024-02-24T06:57:53.700091Z",
     "iopub.status.busy": "2024-02-24T06:57:53.699113Z",
     "iopub.status.idle": "2024-02-24T06:57:53.705857Z",
     "shell.execute_reply": "2024-02-24T06:57:53.704378Z"
    },
    "papermill": {
     "duration": 0.015537,
     "end_time": "2024-02-24T06:57:53.708154",
     "exception": false,
     "start_time": "2024-02-24T06:57:53.692617",
     "status": "completed"
    },
    "tags": []
   },
   "outputs": [
    {
     "name": "stdout",
     "output_type": "stream",
     "text": [
      "Mean Validation Accuracy: 0.9155622980911833\n"
     ]
    }
   ],
   "source": [
    "# Average validation accuracy\n",
    "mean_val_accuracy = np.mean(val_accuracies)\n",
    "print(\"Mean Validation Accuracy:\", mean_val_accuracy)\n",
    "\n"
   ]
  },
  {
   "cell_type": "code",
   "execution_count": 10,
   "id": "c6bae51a",
   "metadata": {
    "execution": {
     "iopub.execute_input": "2024-02-24T06:57:53.720260Z",
     "iopub.status.busy": "2024-02-24T06:57:53.719876Z",
     "iopub.status.idle": "2024-02-24T06:57:53.731419Z",
     "shell.execute_reply": "2024-02-24T06:57:53.730448Z"
    },
    "papermill": {
     "duration": 0.020402,
     "end_time": "2024-02-24T06:57:53.733850",
     "exception": false,
     "start_time": "2024-02-24T06:57:53.713448",
     "status": "completed"
    },
    "tags": []
   },
   "outputs": [],
   "source": [
    "# Average predictions on test set\n",
    "mean_test_preds = np.mean(test_preds, axis=0)\n",
    "final_test_preds = np.argmax(mean_test_preds, axis=1)\n",
    "\n"
   ]
  },
  {
   "cell_type": "code",
   "execution_count": 11,
   "id": "ab7786a8",
   "metadata": {
    "execution": {
     "iopub.execute_input": "2024-02-24T06:57:53.747018Z",
     "iopub.status.busy": "2024-02-24T06:57:53.746275Z",
     "iopub.status.idle": "2024-02-24T06:57:53.751896Z",
     "shell.execute_reply": "2024-02-24T06:57:53.750897Z"
    },
    "papermill": {
     "duration": 0.014474,
     "end_time": "2024-02-24T06:57:53.754188",
     "exception": false,
     "start_time": "2024-02-24T06:57:53.739714",
     "status": "completed"
    },
    "tags": []
   },
   "outputs": [],
   "source": [
    "# Decode predictions\n",
    "pred = labelencoder.inverse_transform(final_test_preds)\n",
    "\n"
   ]
  },
  {
   "cell_type": "code",
   "execution_count": 12,
   "id": "394367c2",
   "metadata": {
    "execution": {
     "iopub.execute_input": "2024-02-24T06:57:53.766042Z",
     "iopub.status.busy": "2024-02-24T06:57:53.765680Z",
     "iopub.status.idle": "2024-02-24T06:57:53.803013Z",
     "shell.execute_reply": "2024-02-24T06:57:53.802083Z"
    },
    "papermill": {
     "duration": 0.046177,
     "end_time": "2024-02-24T06:57:53.805632",
     "exception": false,
     "start_time": "2024-02-24T06:57:53.759455",
     "status": "completed"
    },
    "tags": []
   },
   "outputs": [],
   "source": [
    "# Create submission file\n",
    "submission = pd.DataFrame({'id': test_data.id, 'NObeyesdad': pred})\n",
    "submission.to_csv('submission.csv', index=False)"
   ]
  },
  {
   "cell_type": "code",
   "execution_count": null,
   "id": "052caf03",
   "metadata": {
    "papermill": {
     "duration": 0.005524,
     "end_time": "2024-02-24T06:57:53.816486",
     "exception": false,
     "start_time": "2024-02-24T06:57:53.810962",
     "status": "completed"
    },
    "tags": []
   },
   "outputs": [],
   "source": []
  }
 ],
 "metadata": {
  "kaggle": {
   "accelerator": "none",
   "dataSources": [
    {
     "databundleVersionId": 7609535,
     "sourceId": 68479,
     "sourceType": "competition"
    },
    {
     "datasetId": 4030196,
     "sourceId": 7009925,
     "sourceType": "datasetVersion"
    }
   ],
   "dockerImageVersionId": 30646,
   "isGpuEnabled": false,
   "isInternetEnabled": true,
   "language": "python",
   "sourceType": "notebook"
  },
  "kernelspec": {
   "display_name": "Python 3",
   "language": "python",
   "name": "python3"
  },
  "language_info": {
   "codemirror_mode": {
    "name": "ipython",
    "version": 3
   },
   "file_extension": ".py",
   "mimetype": "text/x-python",
   "name": "python",
   "nbconvert_exporter": "python",
   "pygments_lexer": "ipython3",
   "version": "3.10.13"
  },
  "papermill": {
   "default_parameters": {},
   "duration": 210.966618,
   "end_time": "2024-02-24T06:57:54.543708",
   "environment_variables": {},
   "exception": null,
   "input_path": "__notebook__.ipynb",
   "output_path": "__notebook__.ipynb",
   "parameters": {},
   "start_time": "2024-02-24T06:54:23.577090",
   "version": "2.5.0"
  }
 },
 "nbformat": 4,
 "nbformat_minor": 5
}
