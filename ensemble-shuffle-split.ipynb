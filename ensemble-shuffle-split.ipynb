{
 "cells": [
  {
   "cell_type": "code",
   "execution_count": 1,
   "id": "4abe25d2",
   "metadata": {
    "_cell_guid": "b1076dfc-b9ad-4769-8c92-a6c4dae69d19",
    "_uuid": "8f2839f25d086af736a60e9eeb907d3b93b6e0e5",
    "execution": {
     "iopub.execute_input": "2024-02-25T13:37:33.042398Z",
     "iopub.status.busy": "2024-02-25T13:37:33.041980Z",
     "iopub.status.idle": "2024-02-25T13:37:36.980744Z",
     "shell.execute_reply": "2024-02-25T13:37:36.979266Z"
    },
    "papermill": {
     "duration": 3.95024,
     "end_time": "2024-02-25T13:37:36.984542",
     "exception": false,
     "start_time": "2024-02-25T13:37:33.034302",
     "status": "completed"
    },
    "tags": []
   },
   "outputs": [],
   "source": [
    "import pandas as pd\n",
    "import numpy as np\n",
    "from sklearn.preprocessing import LabelEncoder, StandardScaler\n",
    "from sklearn.model_selection import ShuffleSplit\n",
    "from sklearn.metrics import accuracy_score\n",
    "import lightgbm as lgb\n",
    "import xgboost as xgb"
   ]
  },
  {
   "cell_type": "code",
   "execution_count": 2,
   "id": "65e745ef",
   "metadata": {
    "execution": {
     "iopub.execute_input": "2024-02-25T13:37:36.996052Z",
     "iopub.status.busy": "2024-02-25T13:37:36.995626Z",
     "iopub.status.idle": "2024-02-25T13:37:37.194768Z",
     "shell.execute_reply": "2024-02-25T13:37:37.193626Z"
    },
    "papermill": {
     "duration": 0.207638,
     "end_time": "2024-02-25T13:37:37.197224",
     "exception": false,
     "start_time": "2024-02-25T13:37:36.989586",
     "status": "completed"
    },
    "tags": []
   },
   "outputs": [],
   "source": [
    "# Load Data\n",
    "train_data = pd.read_csv(\"/kaggle/input/playground-series-s4e2/train.csv\")\n",
    "test_data = pd.read_csv(\"/kaggle/input/playground-series-s4e2/test.csv\")\n",
    "original_data = pd.read_csv(\"/kaggle/input/obesity-or-cvd-risk-classifyregressorcluster/ObesityDataSet.csv\")\n",
    "sample_submission_data = pd.read_csv(\"/kaggle/input/playground-series-s4e2/sample_submission.csv\")\n"
   ]
  },
  {
   "cell_type": "code",
   "execution_count": 3,
   "id": "a942793c",
   "metadata": {
    "execution": {
     "iopub.execute_input": "2024-02-25T13:37:37.210398Z",
     "iopub.status.busy": "2024-02-25T13:37:37.208955Z",
     "iopub.status.idle": "2024-02-25T13:37:37.264098Z",
     "shell.execute_reply": "2024-02-25T13:37:37.262872Z"
    },
    "papermill": {
     "duration": 0.064197,
     "end_time": "2024-02-25T13:37:37.266744",
     "exception": false,
     "start_time": "2024-02-25T13:37:37.202547",
     "status": "completed"
    },
    "tags": []
   },
   "outputs": [],
   "source": [
    "# Merge Data\n",
    "train_data = train_data.drop(\"id\", axis=1)\n",
    "train_data = pd.concat([train_data, original_data], ignore_index=True).drop_duplicates()\n"
   ]
  },
  {
   "cell_type": "code",
   "execution_count": 4,
   "id": "d6efb264",
   "metadata": {
    "execution": {
     "iopub.execute_input": "2024-02-25T13:37:37.277738Z",
     "iopub.status.busy": "2024-02-25T13:37:37.277360Z",
     "iopub.status.idle": "2024-02-25T13:37:37.296558Z",
     "shell.execute_reply": "2024-02-25T13:37:37.295503Z"
    },
    "papermill": {
     "duration": 0.027707,
     "end_time": "2024-02-25T13:37:37.299162",
     "exception": false,
     "start_time": "2024-02-25T13:37:37.271455",
     "status": "completed"
    },
    "tags": []
   },
   "outputs": [],
   "source": [
    "# Feature Scaling\n",
    "scaler = StandardScaler()\n",
    "num_cols = list(train_data.select_dtypes(exclude=['object']).columns)\n",
    "train_data[num_cols] = scaler.fit_transform(train_data[num_cols])\n",
    "test_data[num_cols] = scaler.transform(test_data[num_cols])\n"
   ]
  },
  {
   "cell_type": "code",
   "execution_count": 5,
   "id": "e328aa09",
   "metadata": {
    "execution": {
     "iopub.execute_input": "2024-02-25T13:37:37.310683Z",
     "iopub.status.busy": "2024-02-25T13:37:37.310313Z",
     "iopub.status.idle": "2024-02-25T13:37:37.387594Z",
     "shell.execute_reply": "2024-02-25T13:37:37.386509Z"
    },
    "papermill": {
     "duration": 0.086112,
     "end_time": "2024-02-25T13:37:37.390266",
     "exception": false,
     "start_time": "2024-02-25T13:37:37.304154",
     "status": "completed"
    },
    "tags": []
   },
   "outputs": [],
   "source": [
    "# Encoding Categorical Variables\n",
    "labelencoder = LabelEncoder()\n",
    "object_columns = train_data.select_dtypes(include='object').columns.difference(['NObeyesdad'])\n",
    "\n",
    "for col_name in object_columns:\n",
    "    if train_data[col_name].dtypes == 'object':\n",
    "        train_data[col_name] = labelencoder.fit_transform(train_data[col_name])\n",
    "        test_data[col_name] = labelencoder.transform(test_data[col_name])\n"
   ]
  },
  {
   "cell_type": "code",
   "execution_count": 6,
   "id": "4a60c0d1",
   "metadata": {
    "execution": {
     "iopub.execute_input": "2024-02-25T13:37:37.402092Z",
     "iopub.status.busy": "2024-02-25T13:37:37.401647Z",
     "iopub.status.idle": "2024-02-25T13:37:37.417827Z",
     "shell.execute_reply": "2024-02-25T13:37:37.416410Z"
    },
    "papermill": {
     "duration": 0.025172,
     "end_time": "2024-02-25T13:37:37.420251",
     "exception": false,
     "start_time": "2024-02-25T13:37:37.395079",
     "status": "completed"
    },
    "tags": []
   },
   "outputs": [],
   "source": [
    "# Define Features and Target\n",
    "X = train_data.drop(['NObeyesdad'], axis=1)\n",
    "y = labelencoder.fit_transform(train_data['NObeyesdad'])\n",
    "X_test = test_data.drop([\"id\"], axis=1)\n",
    "\n"
   ]
  },
  {
   "cell_type": "code",
   "execution_count": 7,
   "id": "6a0c00a1",
   "metadata": {
    "execution": {
     "iopub.execute_input": "2024-02-25T13:37:37.431381Z",
     "iopub.status.busy": "2024-02-25T13:37:37.430982Z",
     "iopub.status.idle": "2024-02-25T13:37:37.437346Z",
     "shell.execute_reply": "2024-02-25T13:37:37.436013Z"
    },
    "papermill": {
     "duration": 0.014475,
     "end_time": "2024-02-25T13:37:37.439513",
     "exception": false,
     "start_time": "2024-02-25T13:37:37.425038",
     "status": "completed"
    },
    "tags": []
   },
   "outputs": [],
   "source": [
    "# Define LightGBM model parameters\n",
    "lgb_param = {\n",
    "    \"objective\": \"multiclass\",\n",
    "    \"metric\": \"multi_logloss\",\n",
    "    \"verbosity\": -1,\n",
    "    \"boosting_type\": \"gbdt\",\n",
    "    \"random_state\": 42,\n",
    "    \"num_class\": 7,\n",
    "    'learning_rate': 0.030962211546832760,\n",
    "    'n_estimators': 500,\n",
    "    'lambda_l1': 0.009667446568254372,\n",
    "    'lambda_l2': 0.04018641437301800,\n",
    "    'max_depth': 10,\n",
    "    'colsample_bytree': 0.40977129346872643,\n",
    "    'subsample': 0.9535797422450176,\n",
    "    'min_child_samples': 26\n",
    "}\n"
   ]
  },
  {
   "cell_type": "code",
   "execution_count": 8,
   "id": "6cfb01a7",
   "metadata": {
    "execution": {
     "iopub.execute_input": "2024-02-25T13:37:37.450671Z",
     "iopub.status.busy": "2024-02-25T13:37:37.450278Z",
     "iopub.status.idle": "2024-02-25T13:37:37.455558Z",
     "shell.execute_reply": "2024-02-25T13:37:37.454634Z"
    },
    "papermill": {
     "duration": 0.013464,
     "end_time": "2024-02-25T13:37:37.457706",
     "exception": false,
     "start_time": "2024-02-25T13:37:37.444242",
     "status": "completed"
    },
    "tags": []
   },
   "outputs": [],
   "source": [
    "# Define XGBoost model parameters\n",
    "xgb_param = {\n",
    "    \"objective\": \"multi:softmax\",\n",
    "    \"eval_metric\": \"mlogloss\",\n",
    "    \"verbosity\": 0,\n",
    "    \"random_state\": 42,\n",
    "    \"num_class\": 7,\n",
    "    'learning_rate': 0.030962211546832760,\n",
    "    'n_estimators': 500,\n",
    "    'reg_lambda': 0.009667446568254372,\n",
    "    'reg_alpha': 0.04018641437301800,\n",
    "    'max_depth': 10,\n",
    "    'colsample_bytree': 0.40977129346872643,\n",
    "    'subsample': 0.9535797422450176,\n",
    "    'min_child_weight': 26\n",
    "}\n"
   ]
  },
  {
   "cell_type": "code",
   "execution_count": 9,
   "id": "a1998cc2",
   "metadata": {
    "execution": {
     "iopub.execute_input": "2024-02-25T13:37:37.469219Z",
     "iopub.status.busy": "2024-02-25T13:37:37.468784Z",
     "iopub.status.idle": "2024-02-25T13:45:04.789237Z",
     "shell.execute_reply": "2024-02-25T13:45:04.787542Z"
    },
    "papermill": {
     "duration": 447.329662,
     "end_time": "2024-02-25T13:45:04.792137",
     "exception": false,
     "start_time": "2024-02-25T13:37:37.462475",
     "status": "completed"
    },
    "tags": []
   },
   "outputs": [],
   "source": [
    "# Define Shuffle-Split Cross-Validation\n",
    "num_splits = 10\n",
    "ss = ShuffleSplit(n_splits=num_splits, test_size=0.1, random_state=42)\n",
    "\n",
    "# Initialize lists to store validation accuracies and predictions\n",
    "val_accuracies_lgb = []\n",
    "test_preds_lgb = []\n",
    "val_accuracies_xgb = []\n",
    "test_preds_xgb = []\n",
    "\n",
    "# Perform Shuffle-Split Cross-Validation\n",
    "for train_index, val_index in ss.split(X):\n",
    "    X_train, X_val = X.iloc[train_index], X.iloc[val_index]\n",
    "    y_train, y_val = y[train_index], y[val_index]\n",
    "    \n",
    "    # Train LightGBM model\n",
    "    model_lgb = lgb.LGBMClassifier(**lgb_param, verbose=100)\n",
    "    model_lgb.fit(X_train, y_train)\n",
    "    \n",
    "    # Make predictions on validation set (LightGBM)\n",
    "    pred_proba_lgb = model_lgb.predict_proba(X_val)\n",
    "    y_pred_lgb = np.argmax(pred_proba_lgb, axis=1)\n",
    "    \n",
    "    # Calculate accuracy and store (LightGBM)\n",
    "    val_accuracy_lgb = accuracy_score(y_val, y_pred_lgb)\n",
    "    val_accuracies_lgb.append(val_accuracy_lgb)\n",
    "    \n",
    "    # Make predictions on test set (LightGBM)\n",
    "    test_pred_proba_lgb = model_lgb.predict_proba(X_test)\n",
    "    test_preds_lgb.append(test_pred_proba_lgb)\n",
    "    \n",
    "    # Train XGBoost model\n",
    "    model_xgb = xgb.XGBClassifier(**xgb_param)\n",
    "    model_xgb.fit(X_train, y_train)\n",
    "    \n",
    "    # Make predictions on validation set (XGBoost)\n",
    "    pred_proba_xgb = model_xgb.predict_proba(X_val)\n",
    "    y_pred_xgb = np.argmax(pred_proba_xgb, axis=1)\n",
    "    \n",
    "    # Calculate accuracy and store (XGBoost)\n",
    "    val_accuracy_xgb = accuracy_score(y_val, y_pred_xgb)\n",
    "    val_accuracies_xgb.append(val_accuracy_xgb)\n",
    "    \n",
    "    # Make predictions on test set (XGBoost)\n",
    "    test_pred_proba_xgb = model_xgb.predict_proba(X_test)\n",
    "    test_preds_xgb.append(test_pred_proba_xgb)\n"
   ]
  },
  {
   "cell_type": "code",
   "execution_count": 10,
   "id": "4f4d87b8",
   "metadata": {
    "execution": {
     "iopub.execute_input": "2024-02-25T13:45:04.803673Z",
     "iopub.status.busy": "2024-02-25T13:45:04.803271Z",
     "iopub.status.idle": "2024-02-25T13:45:04.811762Z",
     "shell.execute_reply": "2024-02-25T13:45:04.810436Z"
    },
    "papermill": {
     "duration": 0.018053,
     "end_time": "2024-02-25T13:45:04.815158",
     "exception": false,
     "start_time": "2024-02-25T13:45:04.797105",
     "status": "completed"
    },
    "tags": []
   },
   "outputs": [
    {
     "name": "stdout",
     "output_type": "stream",
     "text": [
      "Mean Validation Accuracy (LightGBM): 0.915886214442013\n"
     ]
    }
   ],
   "source": [
    "# Average validation accuracy (LightGBM)\n",
    "mean_val_accuracy_lgb = np.mean(val_accuracies_lgb)\n",
    "print(\"Mean Validation Accuracy (LightGBM):\", mean_val_accuracy_lgb)\n",
    "\n"
   ]
  },
  {
   "cell_type": "code",
   "execution_count": 11,
   "id": "6a11a393",
   "metadata": {
    "execution": {
     "iopub.execute_input": "2024-02-25T13:45:04.830743Z",
     "iopub.status.busy": "2024-02-25T13:45:04.830298Z",
     "iopub.status.idle": "2024-02-25T13:45:04.840718Z",
     "shell.execute_reply": "2024-02-25T13:45:04.839172Z"
    },
    "papermill": {
     "duration": 0.022493,
     "end_time": "2024-02-25T13:45:04.843492",
     "exception": false,
     "start_time": "2024-02-25T13:45:04.820999",
     "status": "completed"
    },
    "tags": []
   },
   "outputs": [],
   "source": [
    "# Average predictions on test set (LightGBM)\n",
    "mean_test_preds_lgb = np.mean(test_preds_lgb, axis=0)\n",
    "final_test_preds_lgb = np.argmax(mean_test_preds_lgb, axis=1)\n",
    "\n"
   ]
  },
  {
   "cell_type": "code",
   "execution_count": 12,
   "id": "740b680c",
   "metadata": {
    "execution": {
     "iopub.execute_input": "2024-02-25T13:45:04.854925Z",
     "iopub.status.busy": "2024-02-25T13:45:04.854530Z",
     "iopub.status.idle": "2024-02-25T13:45:04.860676Z",
     "shell.execute_reply": "2024-02-25T13:45:04.859183Z"
    },
    "papermill": {
     "duration": 0.014969,
     "end_time": "2024-02-25T13:45:04.863396",
     "exception": false,
     "start_time": "2024-02-25T13:45:04.848427",
     "status": "completed"
    },
    "tags": []
   },
   "outputs": [
    {
     "name": "stdout",
     "output_type": "stream",
     "text": [
      "Mean Validation Accuracy (XGBoost): 0.9173741794310721\n"
     ]
    }
   ],
   "source": [
    "# Average validation accuracy (XGBoost)\n",
    "mean_val_accuracy_xgb = np.mean(val_accuracies_xgb)\n",
    "print(\"Mean Validation Accuracy (XGBoost):\", mean_val_accuracy_xgb)\n",
    "\n"
   ]
  },
  {
   "cell_type": "code",
   "execution_count": 13,
   "id": "a5ccc297",
   "metadata": {
    "execution": {
     "iopub.execute_input": "2024-02-25T13:45:04.874884Z",
     "iopub.status.busy": "2024-02-25T13:45:04.874507Z",
     "iopub.status.idle": "2024-02-25T13:45:04.884119Z",
     "shell.execute_reply": "2024-02-25T13:45:04.882639Z"
    },
    "papermill": {
     "duration": 0.018293,
     "end_time": "2024-02-25T13:45:04.886618",
     "exception": false,
     "start_time": "2024-02-25T13:45:04.868325",
     "status": "completed"
    },
    "tags": []
   },
   "outputs": [],
   "source": [
    "# Average predictions on test set (XGBoost)\n",
    "mean_test_preds_xgb = np.mean(test_preds_xgb, axis=0)\n",
    "final_test_preds_xgb = np.argmax(mean_test_preds_xgb, axis=1)\n",
    "\n"
   ]
  },
  {
   "cell_type": "code",
   "execution_count": 14,
   "id": "50c60ee1",
   "metadata": {
    "execution": {
     "iopub.execute_input": "2024-02-25T13:45:04.898722Z",
     "iopub.status.busy": "2024-02-25T13:45:04.898333Z",
     "iopub.status.idle": "2024-02-25T13:45:04.973085Z",
     "shell.execute_reply": "2024-02-25T13:45:04.972000Z"
    },
    "papermill": {
     "duration": 0.083851,
     "end_time": "2024-02-25T13:45:04.975640",
     "exception": false,
     "start_time": "2024-02-25T13:45:04.891789",
     "status": "completed"
    },
    "tags": []
   },
   "outputs": [],
   "source": [
    "# Ensemble predictions\n",
    "ensemble_preds = np.vstack((final_test_preds_lgb, final_test_preds_xgb)).T\n",
    "final_preds = np.apply_along_axis(lambda x: np.argmax(np.bincount(x)), axis=1, arr=ensemble_preds)\n",
    "\n"
   ]
  },
  {
   "cell_type": "code",
   "execution_count": 15,
   "id": "3f39c3c7",
   "metadata": {
    "execution": {
     "iopub.execute_input": "2024-02-25T13:45:04.987160Z",
     "iopub.status.busy": "2024-02-25T13:45:04.986736Z",
     "iopub.status.idle": "2024-02-25T13:45:04.994207Z",
     "shell.execute_reply": "2024-02-25T13:45:04.993182Z"
    },
    "papermill": {
     "duration": 0.016106,
     "end_time": "2024-02-25T13:45:04.996722",
     "exception": false,
     "start_time": "2024-02-25T13:45:04.980616",
     "status": "completed"
    },
    "tags": []
   },
   "outputs": [],
   "source": [
    "# Decode predictions\n",
    "pred = labelencoder.inverse_transform(final_preds)\n",
    "\n"
   ]
  },
  {
   "cell_type": "code",
   "execution_count": 16,
   "id": "58712d64",
   "metadata": {
    "execution": {
     "iopub.execute_input": "2024-02-25T13:45:05.008706Z",
     "iopub.status.busy": "2024-02-25T13:45:05.008325Z",
     "iopub.status.idle": "2024-02-25T13:45:05.037031Z",
     "shell.execute_reply": "2024-02-25T13:45:05.035788Z"
    },
    "papermill": {
     "duration": 0.037493,
     "end_time": "2024-02-25T13:45:05.039690",
     "exception": false,
     "start_time": "2024-02-25T13:45:05.002197",
     "status": "completed"
    },
    "tags": []
   },
   "outputs": [],
   "source": [
    "# Create submission file\n",
    "submission = pd.DataFrame({'id': test_data.id, 'NObeyesdad': pred})\n",
    "submission.to_csv('submission_ensemble.csv', index=False)"
   ]
  },
  {
   "cell_type": "code",
   "execution_count": null,
   "id": "0d747dff",
   "metadata": {
    "papermill": {
     "duration": 0.004929,
     "end_time": "2024-02-25T13:45:05.049727",
     "exception": false,
     "start_time": "2024-02-25T13:45:05.044798",
     "status": "completed"
    },
    "tags": []
   },
   "outputs": [],
   "source": []
  }
 ],
 "metadata": {
  "kaggle": {
   "accelerator": "none",
   "dataSources": [
    {
     "databundleVersionId": 7609535,
     "sourceId": 68479,
     "sourceType": "competition"
    },
    {
     "datasetId": 4030196,
     "sourceId": 7009925,
     "sourceType": "datasetVersion"
    }
   ],
   "dockerImageVersionId": 30646,
   "isGpuEnabled": false,
   "isInternetEnabled": true,
   "language": "python",
   "sourceType": "notebook"
  },
  "kernelspec": {
   "display_name": "Python 3",
   "language": "python",
   "name": "python3"
  },
  "language_info": {
   "codemirror_mode": {
    "name": "ipython",
    "version": 3
   },
   "file_extension": ".py",
   "mimetype": "text/x-python",
   "name": "python",
   "nbconvert_exporter": "python",
   "pygments_lexer": "ipython3",
   "version": "3.10.13"
  },
  "papermill": {
   "default_parameters": {},
   "duration": 455.717692,
   "end_time": "2024-02-25T13:45:05.877930",
   "environment_variables": {},
   "exception": null,
   "input_path": "__notebook__.ipynb",
   "output_path": "__notebook__.ipynb",
   "parameters": {},
   "start_time": "2024-02-25T13:37:30.160238",
   "version": "2.5.0"
  }
 },
 "nbformat": 4,
 "nbformat_minor": 5
}
