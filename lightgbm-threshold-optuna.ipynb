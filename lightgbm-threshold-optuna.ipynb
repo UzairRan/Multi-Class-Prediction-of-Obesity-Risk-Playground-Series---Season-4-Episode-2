{
 "cells": [
  {
   "cell_type": "code",
   "execution_count": 1,
   "id": "3f894621",
   "metadata": {
    "_cell_guid": "b1076dfc-b9ad-4769-8c92-a6c4dae69d19",
    "_uuid": "8f2839f25d086af736a60e9eeb907d3b93b6e0e5",
    "execution": {
     "iopub.execute_input": "2024-02-23T16:32:02.909091Z",
     "iopub.status.busy": "2024-02-23T16:32:02.908367Z",
     "iopub.status.idle": "2024-02-23T16:32:07.737460Z",
     "shell.execute_reply": "2024-02-23T16:32:07.736286Z"
    },
    "papermill": {
     "duration": 4.837198,
     "end_time": "2024-02-23T16:32:07.740051",
     "exception": false,
     "start_time": "2024-02-23T16:32:02.902853",
     "status": "completed"
    },
    "tags": []
   },
   "outputs": [],
   "source": [
    "import pandas as pd\n",
    "import numpy as np\n",
    "from sklearn.preprocessing import LabelEncoder, StandardScaler\n",
    "from sklearn.model_selection import train_test_split\n",
    "from sklearn.metrics import accuracy_score\n",
    "import lightgbm as lgb\n",
    "import optuna\n"
   ]
  },
  {
   "cell_type": "code",
   "execution_count": 2,
   "id": "7af2c990",
   "metadata": {
    "execution": {
     "iopub.execute_input": "2024-02-23T16:32:07.749471Z",
     "iopub.status.busy": "2024-02-23T16:32:07.749041Z",
     "iopub.status.idle": "2024-02-23T16:32:07.937981Z",
     "shell.execute_reply": "2024-02-23T16:32:07.936964Z"
    },
    "papermill": {
     "duration": 0.196061,
     "end_time": "2024-02-23T16:32:07.940164",
     "exception": false,
     "start_time": "2024-02-23T16:32:07.744103",
     "status": "completed"
    },
    "tags": []
   },
   "outputs": [],
   "source": [
    "# Load Data\n",
    "train_data = pd.read_csv(\"/kaggle/input/playground-series-s4e2/train.csv\")\n",
    "test_data = pd.read_csv(\"/kaggle/input/playground-series-s4e2/test.csv\")\n",
    "original_data = pd.read_csv(\"/kaggle/input/obesity-or-cvd-risk-classifyregressorcluster/ObesityDataSet.csv\")\n",
    "sample_submission_data = pd.read_csv(\"/kaggle/input/playground-series-s4e2/sample_submission.csv\")\n"
   ]
  },
  {
   "cell_type": "code",
   "execution_count": 3,
   "id": "0225daf2",
   "metadata": {
    "execution": {
     "iopub.execute_input": "2024-02-23T16:32:07.949682Z",
     "iopub.status.busy": "2024-02-23T16:32:07.948992Z",
     "iopub.status.idle": "2024-02-23T16:32:07.999126Z",
     "shell.execute_reply": "2024-02-23T16:32:07.998074Z"
    },
    "papermill": {
     "duration": 0.057555,
     "end_time": "2024-02-23T16:32:08.001617",
     "exception": false,
     "start_time": "2024-02-23T16:32:07.944062",
     "status": "completed"
    },
    "tags": []
   },
   "outputs": [],
   "source": [
    "# Merge Data\n",
    "train_data = train_data.drop(\"id\", axis=1)\n",
    "train_data = pd.concat([train_data, original_data], ignore_index=True).drop_duplicates()\n"
   ]
  },
  {
   "cell_type": "code",
   "execution_count": 4,
   "id": "44d45a65",
   "metadata": {
    "execution": {
     "iopub.execute_input": "2024-02-23T16:32:08.010346Z",
     "iopub.status.busy": "2024-02-23T16:32:08.009978Z",
     "iopub.status.idle": "2024-02-23T16:32:08.027628Z",
     "shell.execute_reply": "2024-02-23T16:32:08.026578Z"
    },
    "papermill": {
     "duration": 0.024656,
     "end_time": "2024-02-23T16:32:08.029960",
     "exception": false,
     "start_time": "2024-02-23T16:32:08.005304",
     "status": "completed"
    },
    "tags": []
   },
   "outputs": [],
   "source": [
    "# Feature Scaling\n",
    "scaler = StandardScaler()\n",
    "num_cols = list(train_data.select_dtypes(exclude=['object']).columns)\n",
    "train_data[num_cols] = scaler.fit_transform(train_data[num_cols])\n",
    "test_data[num_cols] = scaler.transform(test_data[num_cols])"
   ]
  },
  {
   "cell_type": "code",
   "execution_count": 5,
   "id": "90d110a2",
   "metadata": {
    "execution": {
     "iopub.execute_input": "2024-02-23T16:32:08.039187Z",
     "iopub.status.busy": "2024-02-23T16:32:08.038809Z",
     "iopub.status.idle": "2024-02-23T16:32:08.115036Z",
     "shell.execute_reply": "2024-02-23T16:32:08.114040Z"
    },
    "papermill": {
     "duration": 0.083873,
     "end_time": "2024-02-23T16:32:08.117621",
     "exception": false,
     "start_time": "2024-02-23T16:32:08.033748",
     "status": "completed"
    },
    "tags": []
   },
   "outputs": [],
   "source": [
    "# Encoding Categorical Variables\n",
    "labelencoder = LabelEncoder()\n",
    "object_columns = train_data.select_dtypes(include='object').columns.difference(['NObeyesdad'])\n",
    "\n",
    "for col_name in object_columns:\n",
    "    if train_data[col_name].dtypes == 'object':\n",
    "        train_data[col_name] = labelencoder.fit_transform(train_data[col_name])\n",
    "        test_data[col_name] = labelencoder.transform(test_data[col_name])\n"
   ]
  },
  {
   "cell_type": "code",
   "execution_count": 6,
   "id": "ff23826e",
   "metadata": {
    "execution": {
     "iopub.execute_input": "2024-02-23T16:32:08.126636Z",
     "iopub.status.busy": "2024-02-23T16:32:08.126263Z",
     "iopub.status.idle": "2024-02-23T16:32:08.149561Z",
     "shell.execute_reply": "2024-02-23T16:32:08.148613Z"
    },
    "papermill": {
     "duration": 0.03068,
     "end_time": "2024-02-23T16:32:08.151932",
     "exception": false,
     "start_time": "2024-02-23T16:32:08.121252",
     "status": "completed"
    },
    "tags": []
   },
   "outputs": [],
   "source": [
    "# Define Features and Target\n",
    "X = train_data.drop(['NObeyesdad'], axis=1)\n",
    "y = labelencoder.fit_transform(train_data['NObeyesdad'])\n",
    "X_test = test_data.drop([\"id\"], axis=1)\n",
    "\n",
    "# Train-Validation Split\n",
    "X_train, X_val, y_train, y_val = train_test_split(X, y, test_size=0.2, random_state=42)\n",
    "\n"
   ]
  },
  {
   "cell_type": "code",
   "execution_count": 7,
   "id": "067622b4",
   "metadata": {
    "execution": {
     "iopub.execute_input": "2024-02-23T16:32:08.160966Z",
     "iopub.status.busy": "2024-02-23T16:32:08.160528Z",
     "iopub.status.idle": "2024-02-23T16:32:27.650709Z",
     "shell.execute_reply": "2024-02-23T16:32:27.649792Z"
    },
    "papermill": {
     "duration": 19.497553,
     "end_time": "2024-02-23T16:32:27.653228",
     "exception": false,
     "start_time": "2024-02-23T16:32:08.155675",
     "status": "completed"
    },
    "tags": []
   },
   "outputs": [],
   "source": [
    "# Define LightGBM model parameters\n",
    "param = {\n",
    "    \"objective\": \"multiclass\",\n",
    "    \"metric\": \"multi_logloss\",\n",
    "    \"verbosity\": -1,\n",
    "    \"boosting_type\": \"gbdt\",\n",
    "    \"random_state\": 42,\n",
    "    \"num_class\": 7,\n",
    "    'learning_rate': 0.030962211546832760,\n",
    "    'n_estimators': 500,\n",
    "    'lambda_l1': 0.009667446568254372,\n",
    "    'lambda_l2': 0.04018641437301800,\n",
    "    'max_depth': 10,\n",
    "    'colsample_bytree': 0.40977129346872643,\n",
    "    'subsample': 0.9535797422450176,\n",
    "    'min_child_samples': 26\n",
    "}\n",
    "\n",
    "# Train LightGBM model\n",
    "model_lgb = lgb.LGBMClassifier(**param, verbose=70)\n",
    "model_lgb.fit(X_train, y_train)\n",
    "pred_proba = model_lgb.predict_proba(X_val)"
   ]
  },
  {
   "cell_type": "code",
   "execution_count": 8,
   "id": "265545dd",
   "metadata": {
    "execution": {
     "iopub.execute_input": "2024-02-23T16:32:27.661966Z",
     "iopub.status.busy": "2024-02-23T16:32:27.661562Z",
     "iopub.status.idle": "2024-02-23T16:32:30.115118Z",
     "shell.execute_reply": "2024-02-23T16:32:30.113639Z"
    },
    "papermill": {
     "duration": 2.460492,
     "end_time": "2024-02-23T16:32:30.117422",
     "exception": false,
     "start_time": "2024-02-23T16:32:27.656930",
     "status": "completed"
    },
    "tags": []
   },
   "outputs": [
    {
     "name": "stderr",
     "output_type": "stream",
     "text": [
      "[I 2024-02-23 16:32:27,665] A new study created in memory with name: no-name-c3b3c58f-08cf-4238-9aea-5c248b2cbe7c\n",
      "/tmp/ipykernel_18/2274821513.py:5: FutureWarning: suggest_uniform has been deprecated in v3.0.0. This feature will be removed in v6.0.0. See https://github.com/optuna/optuna/releases/tag/v3.0.0. Use suggest_float instead.\n",
      "  thresholds[f'threshold_{i}'] = trial.suggest_uniform(f'threshold_{i}', 0.0, 1.0)\n",
      "[I 2024-02-23 16:32:27,672] Trial 0 finished with value: 0.8826876778288466 and parameters: {'threshold_0': 0.42675972539156937, 'threshold_1': 0.5568182033419732, 'threshold_2': 0.45211497869202955, 'threshold_3': 0.6064516279646746, 'threshold_4': 0.6592183299898215, 'threshold_5': 0.6031889920214176, 'threshold_6': 0.07638226594765951}. Best is trial 0 with value: 0.8826876778288466.\n",
      "/tmp/ipykernel_18/2274821513.py:5: FutureWarning: suggest_uniform has been deprecated in v3.0.0. This feature will be removed in v6.0.0. See https://github.com/optuna/optuna/releases/tag/v3.0.0. Use suggest_float instead.\n",
      "  thresholds[f'threshold_{i}'] = trial.suggest_uniform(f'threshold_{i}', 0.0, 1.0)\n",
      "[I 2024-02-23 16:32:27,675] Trial 1 finished with value: 0.8956007879185818 and parameters: {'threshold_0': 0.36693225184928624, 'threshold_1': 0.18493380342230592, 'threshold_2': 0.8496325891482901, 'threshold_3': 0.7886914070460295, 'threshold_4': 0.09547001130150301, 'threshold_5': 0.9901837386388512, 'threshold_6': 0.14973316028336703}. Best is trial 1 with value: 0.8956007879185818.\n",
      "/tmp/ipykernel_18/2274821513.py:5: FutureWarning: suggest_uniform has been deprecated in v3.0.0. This feature will be removed in v6.0.0. See https://github.com/optuna/optuna/releases/tag/v3.0.0. Use suggest_float instead.\n",
      "  thresholds[f'threshold_{i}'] = trial.suggest_uniform(f'threshold_{i}', 0.0, 1.0)\n",
      "[I 2024-02-23 16:32:27,679] Trial 2 finished with value: 0.9001969796454367 and parameters: {'threshold_0': 0.8068359688344384, 'threshold_1': 0.970923474746414, 'threshold_2': 0.05053572785508287, 'threshold_3': 0.6855375144039901, 'threshold_4': 0.7435261670483152, 'threshold_5': 0.18381376371910152, 'threshold_6': 0.722461163476665}. Best is trial 2 with value: 0.9001969796454367.\n",
      "/tmp/ipykernel_18/2274821513.py:5: FutureWarning: suggest_uniform has been deprecated in v3.0.0. This feature will be removed in v6.0.0. See https://github.com/optuna/optuna/releases/tag/v3.0.0. Use suggest_float instead.\n",
      "  thresholds[f'threshold_{i}'] = trial.suggest_uniform(f'threshold_{i}', 0.0, 1.0)\n",
      "[I 2024-02-23 16:32:27,683] Trial 3 finished with value: 0.8844386080105056 and parameters: {'threshold_0': 0.23785536318143474, 'threshold_1': 0.25985254929185664, 'threshold_2': 0.6462766649974055, 'threshold_3': 0.6197438259360697, 'threshold_4': 0.9736547862837746, 'threshold_5': 0.07736425364221478, 'threshold_6': 0.19191035463774064}. Best is trial 2 with value: 0.9001969796454367.\n",
      "/tmp/ipykernel_18/2274821513.py:5: FutureWarning: suggest_uniform has been deprecated in v3.0.0. This feature will be removed in v6.0.0. See https://github.com/optuna/optuna/releases/tag/v3.0.0. Use suggest_float instead.\n",
      "  thresholds[f'threshold_{i}'] = trial.suggest_uniform(f'threshold_{i}', 0.0, 1.0)\n",
      "[I 2024-02-23 16:32:27,688] Trial 4 finished with value: 0.8942875902823375 and parameters: {'threshold_0': 0.29561977567727526, 'threshold_1': 0.98335219871868, 'threshold_2': 0.6167297280525583, 'threshold_3': 0.40775851720455136, 'threshold_4': 0.3422179412595533, 'threshold_5': 0.09961724991383669, 'threshold_6': 0.6504975500715915}. Best is trial 2 with value: 0.9001969796454367.\n",
      "/tmp/ipykernel_18/2274821513.py:5: FutureWarning: suggest_uniform has been deprecated in v3.0.0. This feature will be removed in v6.0.0. See https://github.com/optuna/optuna/releases/tag/v3.0.0. Use suggest_float instead.\n",
      "  thresholds[f'threshold_{i}'] = trial.suggest_uniform(f'threshold_{i}', 0.0, 1.0)\n",
      "[I 2024-02-23 16:32:27,693] Trial 5 finished with value: 0.9054497701904136 and parameters: {'threshold_0': 0.32980373592911316, 'threshold_1': 0.5436972115056128, 'threshold_2': 0.1067621815122799, 'threshold_3': 0.8733313484850241, 'threshold_4': 0.9180476242956787, 'threshold_5': 0.2945509524821014, 'threshold_6': 0.24080690082154166}. Best is trial 5 with value: 0.9054497701904136.\n",
      "/tmp/ipykernel_18/2274821513.py:5: FutureWarning: suggest_uniform has been deprecated in v3.0.0. This feature will be removed in v6.0.0. See https://github.com/optuna/optuna/releases/tag/v3.0.0. Use suggest_float instead.\n",
      "  thresholds[f'threshold_{i}'] = trial.suggest_uniform(f'threshold_{i}', 0.0, 1.0)\n",
      "[I 2024-02-23 16:32:27,697] Trial 6 finished with value: 0.9100459619172685 and parameters: {'threshold_0': 0.38843266092305484, 'threshold_1': 0.3413779372440713, 'threshold_2': 0.5889054483177661, 'threshold_3': 0.5876655857304411, 'threshold_4': 0.345241028135023, 'threshold_5': 0.37015608970021496, 'threshold_6': 0.44797316699527623}. Best is trial 6 with value: 0.9100459619172685.\n",
      "/tmp/ipykernel_18/2274821513.py:5: FutureWarning: suggest_uniform has been deprecated in v3.0.0. This feature will be removed in v6.0.0. See https://github.com/optuna/optuna/releases/tag/v3.0.0. Use suggest_float instead.\n",
      "  thresholds[f'threshold_{i}'] = trial.suggest_uniform(f'threshold_{i}', 0.0, 1.0)\n",
      "[I 2024-02-23 16:32:27,701] Trial 7 finished with value: 0.9058875027358284 and parameters: {'threshold_0': 0.706546552189401, 'threshold_1': 0.08759332690574395, 'threshold_2': 0.7035284653426805, 'threshold_3': 0.17637882152676976, 'threshold_4': 0.6700896000500542, 'threshold_5': 0.5679177648561521, 'threshold_6': 0.6156435890188916}. Best is trial 6 with value: 0.9100459619172685.\n",
      "/tmp/ipykernel_18/2274821513.py:5: FutureWarning: suggest_uniform has been deprecated in v3.0.0. This feature will be removed in v6.0.0. See https://github.com/optuna/optuna/releases/tag/v3.0.0. Use suggest_float instead.\n",
      "  thresholds[f'threshold_{i}'] = trial.suggest_uniform(f'threshold_{i}', 0.0, 1.0)\n",
      "[I 2024-02-23 16:32:27,705] Trial 8 finished with value: 0.8866272707375793 and parameters: {'threshold_0': 0.38049150005489973, 'threshold_1': 0.5487291093582586, 'threshold_2': 0.10056857079212611, 'threshold_3': 0.2547541159727119, 'threshold_4': 0.21423607658765553, 'threshold_5': 0.13182513635400195, 'threshold_6': 0.980319954577619}. Best is trial 6 with value: 0.9100459619172685.\n",
      "/tmp/ipykernel_18/2274821513.py:5: FutureWarning: suggest_uniform has been deprecated in v3.0.0. This feature will be removed in v6.0.0. See https://github.com/optuna/optuna/releases/tag/v3.0.0. Use suggest_float instead.\n",
      "  thresholds[f'threshold_{i}'] = trial.suggest_uniform(f'threshold_{i}', 0.0, 1.0)\n",
      "[I 2024-02-23 16:32:27,710] Trial 9 finished with value: 0.866053841103086 and parameters: {'threshold_0': 0.07359015013438674, 'threshold_1': 0.002418458821046743, 'threshold_2': 0.23267712255228146, 'threshold_3': 0.36920670245159515, 'threshold_4': 0.714035929836175, 'threshold_5': 0.673083956704536, 'threshold_6': 0.677934544192395}. Best is trial 6 with value: 0.9100459619172685.\n",
      "/tmp/ipykernel_18/2274821513.py:5: FutureWarning: suggest_uniform has been deprecated in v3.0.0. This feature will be removed in v6.0.0. See https://github.com/optuna/optuna/releases/tag/v3.0.0. Use suggest_float instead.\n",
      "  thresholds[f'threshold_{i}'] = trial.suggest_uniform(f'threshold_{i}', 0.0, 1.0)\n",
      "[I 2024-02-23 16:32:27,745] Trial 10 finished with value: 0.9067629678266579 and parameters: {'threshold_0': 0.6220646822773714, 'threshold_1': 0.34960905576807133, 'threshold_2': 0.413810863528938, 'threshold_3': 0.08026933128886471, 'threshold_4': 0.42209663779945306, 'threshold_5': 0.3858417164277775, 'threshold_6': 0.37379446659084054}. Best is trial 6 with value: 0.9100459619172685.\n",
      "/tmp/ipykernel_18/2274821513.py:5: FutureWarning: suggest_uniform has been deprecated in v3.0.0. This feature will be removed in v6.0.0. See https://github.com/optuna/optuna/releases/tag/v3.0.0. Use suggest_float instead.\n",
      "  thresholds[f'threshold_{i}'] = trial.suggest_uniform(f'threshold_{i}', 0.0, 1.0)\n",
      "[I 2024-02-23 16:32:27,785] Trial 11 finished with value: 0.8885970671919458 and parameters: {'threshold_0': 0.6210237836977455, 'threshold_1': 0.36615394830376863, 'threshold_2': 0.4261481634192382, 'threshold_3': 0.00378677711591488, 'threshold_4': 0.4214237951308326, 'threshold_5': 0.37325979555286504, 'threshold_6': 0.36906792106380704}. Best is trial 6 with value: 0.9100459619172685.\n",
      "/tmp/ipykernel_18/2274821513.py:5: FutureWarning: suggest_uniform has been deprecated in v3.0.0. This feature will be removed in v6.0.0. See https://github.com/optuna/optuna/releases/tag/v3.0.0. Use suggest_float instead.\n",
      "  thresholds[f'threshold_{i}'] = trial.suggest_uniform(f'threshold_{i}', 0.0, 1.0)\n",
      "[I 2024-02-23 16:32:27,822] Trial 12 finished with value: 0.9107025607353907 and parameters: {'threshold_0': 0.9913861975706877, 'threshold_1': 0.37705481028017934, 'threshold_2': 0.3249101583584969, 'threshold_3': 0.9932400940310522, 'threshold_4': 0.31793831559051655, 'threshold_5': 0.4139642799447478, 'threshold_6': 0.4281131565507531}. Best is trial 12 with value: 0.9107025607353907.\n",
      "/tmp/ipykernel_18/2274821513.py:5: FutureWarning: suggest_uniform has been deprecated in v3.0.0. This feature will be removed in v6.0.0. See https://github.com/optuna/optuna/releases/tag/v3.0.0. Use suggest_float instead.\n",
      "  thresholds[f'threshold_{i}'] = trial.suggest_uniform(f'threshold_{i}', 0.0, 1.0)\n",
      "[I 2024-02-23 16:32:27,858] Trial 13 finished with value: 0.9115780258262202 and parameters: {'threshold_0': 0.9611587874402263, 'threshold_1': 0.7113097655226971, 'threshold_2': 0.3030773213666333, 'threshold_3': 0.9947574666024737, 'threshold_4': 0.006432961049839703, 'threshold_5': 0.7727578471565296, 'threshold_6': 0.4694691377973846}. Best is trial 13 with value: 0.9115780258262202.\n",
      "/tmp/ipykernel_18/2274821513.py:5: FutureWarning: suggest_uniform has been deprecated in v3.0.0. This feature will be removed in v6.0.0. See https://github.com/optuna/optuna/releases/tag/v3.0.0. Use suggest_float instead.\n",
      "  thresholds[f'threshold_{i}'] = trial.suggest_uniform(f'threshold_{i}', 0.0, 1.0)\n",
      "[I 2024-02-23 16:32:27,897] Trial 14 finished with value: 0.9102648281899759 and parameters: {'threshold_0': 0.9872667594060776, 'threshold_1': 0.753024869719955, 'threshold_2': 0.27377211608651575, 'threshold_3': 0.9631885185666632, 'threshold_4': 0.005098487491625017, 'threshold_5': 0.8237462476201868, 'threshold_6': 0.5287443068724844}. Best is trial 13 with value: 0.9115780258262202.\n",
      "/tmp/ipykernel_18/2274821513.py:5: FutureWarning: suggest_uniform has been deprecated in v3.0.0. This feature will be removed in v6.0.0. See https://github.com/optuna/optuna/releases/tag/v3.0.0. Use suggest_float instead.\n",
      "  thresholds[f'threshold_{i}'] = trial.suggest_uniform(f'threshold_{i}', 0.0, 1.0)\n",
      "[I 2024-02-23 16:32:27,937] Trial 15 finished with value: 0.9124534909170496 and parameters: {'threshold_0': 0.9420713424834906, 'threshold_1': 0.7891397630016845, 'threshold_2': 0.2627496417288678, 'threshold_3': 0.9872903257835919, 'threshold_4': 0.21033850903842333, 'threshold_5': 0.7766768457057376, 'threshold_6': 0.899502252126122}. Best is trial 15 with value: 0.9124534909170496.\n",
      "/tmp/ipykernel_18/2274821513.py:5: FutureWarning: suggest_uniform has been deprecated in v3.0.0. This feature will be removed in v6.0.0. See https://github.com/optuna/optuna/releases/tag/v3.0.0. Use suggest_float instead.\n",
      "  thresholds[f'threshold_{i}'] = trial.suggest_uniform(f'threshold_{i}', 0.0, 1.0)\n",
      "[I 2024-02-23 16:32:27,973] Trial 16 finished with value: 0.9122346246443424 and parameters: {'threshold_0': 0.8746763120647179, 'threshold_1': 0.7575918447383998, 'threshold_2': 0.2018106576780323, 'threshold_3': 0.7918335022591972, 'threshold_4': 0.15655878459026484, 'threshold_5': 0.7863892064302964, 'threshold_6': 0.871859075750463}. Best is trial 15 with value: 0.9124534909170496.\n",
      "/tmp/ipykernel_18/2274821513.py:5: FutureWarning: suggest_uniform has been deprecated in v3.0.0. This feature will be removed in v6.0.0. See https://github.com/optuna/optuna/releases/tag/v3.0.0. Use suggest_float instead.\n",
      "  thresholds[f'threshold_{i}'] = trial.suggest_uniform(f'threshold_{i}', 0.0, 1.0)\n",
      "[I 2024-02-23 16:32:28,009] Trial 17 finished with value: 0.9115780258262202 and parameters: {'threshold_0': 0.8332101342667138, 'threshold_1': 0.7739642270968906, 'threshold_2': 0.18035349443900167, 'threshold_3': 0.7725353896154465, 'threshold_4': 0.1853010884290905, 'threshold_5': 0.9688525013691986, 'threshold_6': 0.9848293370566908}. Best is trial 15 with value: 0.9124534909170496.\n",
      "/tmp/ipykernel_18/2274821513.py:5: FutureWarning: suggest_uniform has been deprecated in v3.0.0. This feature will be removed in v6.0.0. See https://github.com/optuna/optuna/releases/tag/v3.0.0. Use suggest_float instead.\n",
      "  thresholds[f'threshold_{i}'] = trial.suggest_uniform(f'threshold_{i}', 0.0, 1.0)\n",
      "[I 2024-02-23 16:32:28,048] Trial 18 finished with value: 0.9113591595535128 and parameters: {'threshold_0': 0.8244367166223215, 'threshold_1': 0.8732665824445446, 'threshold_2': 0.15648898737076822, 'threshold_3': 0.7884418965862257, 'threshold_4': 0.18289602823694887, 'threshold_5': 0.8184897279798452, 'threshold_6': 0.8333262263863049}. Best is trial 15 with value: 0.9124534909170496.\n",
      "/tmp/ipykernel_18/2274821513.py:5: FutureWarning: suggest_uniform has been deprecated in v3.0.0. This feature will be removed in v6.0.0. See https://github.com/optuna/optuna/releases/tag/v3.0.0. Use suggest_float instead.\n",
      "  thresholds[f'threshold_{i}'] = trial.suggest_uniform(f'threshold_{i}', 0.0, 1.0)\n",
      "[I 2024-02-23 16:32:28,085] Trial 19 finished with value: 0.9135478222805865 and parameters: {'threshold_0': 0.5447354525098682, 'threshold_1': 0.6586041036258293, 'threshold_2': 0.9709488184803013, 'threshold_3': 0.8899208476001778, 'threshold_4': 0.5558446796531357, 'threshold_5': 0.7111131921249736, 'threshold_6': 0.8397041324694232}. Best is trial 19 with value: 0.9135478222805865.\n",
      "/tmp/ipykernel_18/2274821513.py:5: FutureWarning: suggest_uniform has been deprecated in v3.0.0. This feature will be removed in v6.0.0. See https://github.com/optuna/optuna/releases/tag/v3.0.0. Use suggest_float instead.\n",
      "  thresholds[f'threshold_{i}'] = trial.suggest_uniform(f'threshold_{i}', 0.0, 1.0)\n",
      "[I 2024-02-23 16:32:28,126] Trial 20 finished with value: 0.9135478222805865 and parameters: {'threshold_0': 0.5244512083808468, 'threshold_1': 0.6426900333997905, 'threshold_2': 0.8966602932638322, 'threshold_3': 0.8960877591041438, 'threshold_4': 0.5393610162356999, 'threshold_5': 0.6817574315266839, 'threshold_6': 0.8180087895004515}. Best is trial 19 with value: 0.9135478222805865.\n",
      "/tmp/ipykernel_18/2274821513.py:5: FutureWarning: suggest_uniform has been deprecated in v3.0.0. This feature will be removed in v6.0.0. See https://github.com/optuna/optuna/releases/tag/v3.0.0. Use suggest_float instead.\n",
      "  thresholds[f'threshold_{i}'] = trial.suggest_uniform(f'threshold_{i}', 0.0, 1.0)\n",
      "[I 2024-02-23 16:32:28,165] Trial 21 finished with value: 0.9135478222805865 and parameters: {'threshold_0': 0.566568348354736, 'threshold_1': 0.6529058117852026, 'threshold_2': 0.9863703397659397, 'threshold_3': 0.8841099873406689, 'threshold_4': 0.5848757720771443, 'threshold_5': 0.694184775856248, 'threshold_6': 0.8347484815342434}. Best is trial 19 with value: 0.9135478222805865.\n",
      "/tmp/ipykernel_18/2274821513.py:5: FutureWarning: suggest_uniform has been deprecated in v3.0.0. This feature will be removed in v6.0.0. See https://github.com/optuna/optuna/releases/tag/v3.0.0. Use suggest_float instead.\n",
      "  thresholds[f'threshold_{i}'] = trial.suggest_uniform(f'threshold_{i}', 0.0, 1.0)\n",
      "[I 2024-02-23 16:32:28,202] Trial 22 finished with value: 0.9135478222805865 and parameters: {'threshold_0': 0.5608833761357565, 'threshold_1': 0.6529068092934937, 'threshold_2': 0.9673148451689639, 'threshold_3': 0.9069789183673146, 'threshold_4': 0.5726485556706408, 'threshold_5': 0.6756612217418253, 'threshold_6': 0.8073830065337744}. Best is trial 19 with value: 0.9135478222805865.\n",
      "/tmp/ipykernel_18/2274821513.py:5: FutureWarning: suggest_uniform has been deprecated in v3.0.0. This feature will be removed in v6.0.0. See https://github.com/optuna/optuna/releases/tag/v3.0.0. Use suggest_float instead.\n",
      "  thresholds[f'threshold_{i}'] = trial.suggest_uniform(f'threshold_{i}', 0.0, 1.0)\n",
      "[I 2024-02-23 16:32:28,240] Trial 23 finished with value: 0.9135478222805865 and parameters: {'threshold_0': 0.5149482203752209, 'threshold_1': 0.6278863167388973, 'threshold_2': 0.9977913668615876, 'threshold_3': 0.8691497339009594, 'threshold_4': 0.5521770323609455, 'threshold_5': 0.5015146646017433, 'threshold_6': 0.7594179540918328}. Best is trial 19 with value: 0.9135478222805865.\n",
      "/tmp/ipykernel_18/2274821513.py:5: FutureWarning: suggest_uniform has been deprecated in v3.0.0. This feature will be removed in v6.0.0. See https://github.com/optuna/optuna/releases/tag/v3.0.0. Use suggest_float instead.\n",
      "  thresholds[f'threshold_{i}'] = trial.suggest_uniform(f'threshold_{i}', 0.0, 1.0)\n",
      "[I 2024-02-23 16:32:28,276] Trial 24 finished with value: 0.9135478222805865 and parameters: {'threshold_0': 0.7260272071823507, 'threshold_1': 0.6256875530259035, 'threshold_2': 0.8503473204870161, 'threshold_3': 0.7179712395950046, 'threshold_4': 0.804996896385674, 'threshold_5': 0.6906394445056668, 'threshold_6': 0.5963398884935562}. Best is trial 19 with value: 0.9135478222805865.\n",
      "/tmp/ipykernel_18/2274821513.py:5: FutureWarning: suggest_uniform has been deprecated in v3.0.0. This feature will be removed in v6.0.0. See https://github.com/optuna/optuna/releases/tag/v3.0.0. Use suggest_float instead.\n",
      "  thresholds[f'threshold_{i}'] = trial.suggest_uniform(f'threshold_{i}', 0.0, 1.0)\n",
      "[I 2024-02-23 16:32:28,314] Trial 25 finished with value: 0.9135478222805865 and parameters: {'threshold_0': 0.47556955535973167, 'threshold_1': 0.47354589607094405, 'threshold_2': 0.8817348051166547, 'threshold_3': 0.864223175590113, 'threshold_4': 0.499945959104035, 'threshold_5': 0.8996736221968037, 'threshold_6': 0.9298664737709982}. Best is trial 19 with value: 0.9135478222805865.\n",
      "/tmp/ipykernel_18/2274821513.py:5: FutureWarning: suggest_uniform has been deprecated in v3.0.0. This feature will be removed in v6.0.0. See https://github.com/optuna/optuna/releases/tag/v3.0.0. Use suggest_float instead.\n",
      "  thresholds[f'threshold_{i}'] = trial.suggest_uniform(f'threshold_{i}', 0.0, 1.0)\n",
      "[I 2024-02-23 16:32:28,353] Trial 26 finished with value: 0.9137666885532939 and parameters: {'threshold_0': 0.5899961752937283, 'threshold_1': 0.44585842658944613, 'threshold_2': 0.9178552178806563, 'threshold_3': 0.690647606766651, 'threshold_4': 0.5918831220736689, 'threshold_5': 0.7072542502941779, 'threshold_6': 0.7820202723507}. Best is trial 26 with value: 0.9137666885532939.\n",
      "/tmp/ipykernel_18/2274821513.py:5: FutureWarning: suggest_uniform has been deprecated in v3.0.0. This feature will be removed in v6.0.0. See https://github.com/optuna/optuna/releases/tag/v3.0.0. Use suggest_float instead.\n",
      "  thresholds[f'threshold_{i}'] = trial.suggest_uniform(f'threshold_{i}', 0.0, 1.0)\n",
      "[I 2024-02-23 16:32:28,390] Trial 27 finished with value: 0.9139855548260013 and parameters: {'threshold_0': 0.7036557495741568, 'threshold_1': 0.4565778756059331, 'threshold_2': 0.7775672241086219, 'threshold_3': 0.5088688625863188, 'threshold_4': 0.821028014031744, 'threshold_5': 0.5450539590478184, 'threshold_6': 0.7466194716947415}. Best is trial 27 with value: 0.9139855548260013.\n",
      "/tmp/ipykernel_18/2274821513.py:5: FutureWarning: suggest_uniform has been deprecated in v3.0.0. This feature will be removed in v6.0.0. See https://github.com/optuna/optuna/releases/tag/v3.0.0. Use suggest_float instead.\n",
      "  thresholds[f'threshold_{i}'] = trial.suggest_uniform(f'threshold_{i}', 0.0, 1.0)\n",
      "[I 2024-02-23 16:32:28,429] Trial 28 finished with value: 0.9131100897351718 and parameters: {'threshold_0': 0.7085511287872749, 'threshold_1': 0.42165858446566296, 'threshold_2': 0.7597853738886228, 'threshold_3': 0.504035929229578, 'threshold_4': 0.8411702890602095, 'threshold_5': 0.5279639291974911, 'threshold_6': 0.7415809178714396}. Best is trial 27 with value: 0.9139855548260013.\n",
      "/tmp/ipykernel_18/2274821513.py:5: FutureWarning: suggest_uniform has been deprecated in v3.0.0. This feature will be removed in v6.0.0. See https://github.com/optuna/optuna/releases/tag/v3.0.0. Use suggest_float instead.\n",
      "  thresholds[f'threshold_{i}'] = trial.suggest_uniform(f'threshold_{i}', 0.0, 1.0)\n",
      "[I 2024-02-23 16:32:28,469] Trial 29 finished with value: 0.9133289560078792 and parameters: {'threshold_0': 0.6486336461611064, 'threshold_1': 0.47390651454556604, 'threshold_2': 0.7748385779346307, 'threshold_3': 0.527403910175829, 'threshold_4': 0.8431738463779626, 'threshold_5': 0.6066155458673582, 'threshold_6': 0.5439376103351274}. Best is trial 27 with value: 0.9139855548260013.\n",
      "/tmp/ipykernel_18/2274821513.py:5: FutureWarning: suggest_uniform has been deprecated in v3.0.0. This feature will be removed in v6.0.0. See https://github.com/optuna/optuna/releases/tag/v3.0.0. Use suggest_float instead.\n",
      "  thresholds[f'threshold_{i}'] = trial.suggest_uniform(f'threshold_{i}', 0.0, 1.0)\n",
      "[I 2024-02-23 16:32:28,511] Trial 30 finished with value: 0.9133289560078792 and parameters: {'threshold_0': 0.4544942024282739, 'threshold_1': 0.24224292300795247, 'threshold_2': 0.7760135767141244, 'threshold_3': 0.4102368563199878, 'threshold_4': 0.6306156560802811, 'threshold_5': 0.6119089034512863, 'threshold_6': 0.7241967963495938}. Best is trial 27 with value: 0.9139855548260013.\n",
      "/tmp/ipykernel_18/2274821513.py:5: FutureWarning: suggest_uniform has been deprecated in v3.0.0. This feature will be removed in v6.0.0. See https://github.com/optuna/optuna/releases/tag/v3.0.0. Use suggest_float instead.\n",
      "  thresholds[f'threshold_{i}'] = trial.suggest_uniform(f'threshold_{i}', 0.0, 1.0)\n",
      "[I 2024-02-23 16:32:28,552] Trial 31 finished with value: 0.9135478222805865 and parameters: {'threshold_0': 0.5403809380897, 'threshold_1': 0.580774429059886, 'threshold_2': 0.9197107745012685, 'threshold_3': 0.6575140675897765, 'threshold_4': 0.4920388556053471, 'threshold_5': 0.8684907145624503, 'threshold_6': 0.7665993457152375}. Best is trial 27 with value: 0.9139855548260013.\n",
      "/tmp/ipykernel_18/2274821513.py:5: FutureWarning: suggest_uniform has been deprecated in v3.0.0. This feature will be removed in v6.0.0. See https://github.com/optuna/optuna/releases/tag/v3.0.0. Use suggest_float instead.\n",
      "  thresholds[f'threshold_{i}'] = trial.suggest_uniform(f'threshold_{i}', 0.0, 1.0)\n",
      "[I 2024-02-23 16:32:28,590] Trial 32 finished with value: 0.9133289560078792 and parameters: {'threshold_0': 0.6540418295660846, 'threshold_1': 0.49612702160592015, 'threshold_2': 0.9269448156936632, 'threshold_3': 0.7275663213992085, 'threshold_4': 0.6432750708795529, 'threshold_5': 0.45734666941227886, 'threshold_6': 0.9213260439749624}. Best is trial 27 with value: 0.9139855548260013.\n",
      "/tmp/ipykernel_18/2274821513.py:5: FutureWarning: suggest_uniform has been deprecated in v3.0.0. This feature will be removed in v6.0.0. See https://github.com/optuna/optuna/releases/tag/v3.0.0. Use suggest_float instead.\n",
      "  thresholds[f'threshold_{i}'] = trial.suggest_uniform(f'threshold_{i}', 0.0, 1.0)\n",
      "[I 2024-02-23 16:32:28,628] Trial 33 finished with value: 0.9135478222805865 and parameters: {'threshold_0': 0.7556075795964954, 'threshold_1': 0.8870020163678188, 'threshold_2': 0.8219658325078844, 'threshold_3': 0.5789825074509155, 'threshold_4': 0.7600643066382391, 'threshold_5': 0.7253849041951327, 'threshold_6': 0.6830277828482312}. Best is trial 27 with value: 0.9139855548260013.\n",
      "/tmp/ipykernel_18/2274821513.py:5: FutureWarning: suggest_uniform has been deprecated in v3.0.0. This feature will be removed in v6.0.0. See https://github.com/optuna/optuna/releases/tag/v3.0.0. Use suggest_float instead.\n",
      "  thresholds[f'threshold_{i}'] = trial.suggest_uniform(f'threshold_{i}', 0.0, 1.0)\n",
      "[I 2024-02-23 16:32:28,667] Trial 34 finished with value: 0.9139855548260013 and parameters: {'threshold_0': 0.18715901849977157, 'threshold_1': 0.44207335300430245, 'threshold_2': 0.5327940005848579, 'threshold_3': 0.6660643455614157, 'threshold_4': 0.43707927051306766, 'threshold_5': 0.5750725791092341, 'threshold_6': 0.7925130971542267}. Best is trial 27 with value: 0.9139855548260013.\n",
      "/tmp/ipykernel_18/2274821513.py:5: FutureWarning: suggest_uniform has been deprecated in v3.0.0. This feature will be removed in v6.0.0. See https://github.com/optuna/optuna/releases/tag/v3.0.0. Use suggest_float instead.\n",
      "  thresholds[f'threshold_{i}'] = trial.suggest_uniform(f'threshold_{i}', 0.0, 1.0)\n",
      "[I 2024-02-23 16:32:28,707] Trial 35 finished with value: 0.8115561391989494 and parameters: {'threshold_0': 0.13626552998903307, 'threshold_1': 0.29580048552959615, 'threshold_2': 0.5101562303284637, 'threshold_3': 0.45130212512593987, 'threshold_4': 0.3949252663004512, 'threshold_5': 0.5920101605845737, 'threshold_6': 0.014168377775239938}. Best is trial 27 with value: 0.9139855548260013.\n",
      "/tmp/ipykernel_18/2274821513.py:5: FutureWarning: suggest_uniform has been deprecated in v3.0.0. This feature will be removed in v6.0.0. See https://github.com/optuna/optuna/releases/tag/v3.0.0. Use suggest_float instead.\n",
      "  thresholds[f'threshold_{i}'] = trial.suggest_uniform(f'threshold_{i}', 0.0, 1.0)\n",
      "[I 2024-02-23 16:32:28,746] Trial 36 finished with value: 0.9052309039177063 and parameters: {'threshold_0': 0.23518424890592676, 'threshold_1': 0.4370239004646798, 'threshold_2': 0.6847546720049286, 'threshold_3': 0.639642797682366, 'threshold_4': 0.9877124423627539, 'threshold_5': 0.22766046431718423, 'threshold_6': 0.6190522086633904}. Best is trial 27 with value: 0.9139855548260013.\n",
      "/tmp/ipykernel_18/2274821513.py:5: FutureWarning: suggest_uniform has been deprecated in v3.0.0. This feature will be removed in v6.0.0. See https://github.com/optuna/optuna/releases/tag/v3.0.0. Use suggest_float instead.\n",
      "  thresholds[f'threshold_{i}'] = trial.suggest_uniform(f'threshold_{i}', 0.0, 1.0)\n",
      "[I 2024-02-23 16:32:28,785] Trial 37 finished with value: 0.912672357189757 and parameters: {'threshold_0': 0.26171232443737247, 'threshold_1': 0.5594241166385838, 'threshold_2': 0.5540927251973662, 'threshold_3': 0.32748893102460525, 'threshold_4': 0.2737483715899614, 'threshold_5': 0.5410972594226268, 'threshold_6': 0.8785358046154959}. Best is trial 27 with value: 0.9139855548260013.\n",
      "/tmp/ipykernel_18/2274821513.py:5: FutureWarning: suggest_uniform has been deprecated in v3.0.0. This feature will be removed in v6.0.0. See https://github.com/optuna/optuna/releases/tag/v3.0.0. Use suggest_float instead.\n",
      "  thresholds[f'threshold_{i}'] = trial.suggest_uniform(f'threshold_{i}', 0.0, 1.0)\n",
      "[I 2024-02-23 16:32:28,824] Trial 38 finished with value: 0.8437294812869337 and parameters: {'threshold_0': 0.1769498315230406, 'threshold_1': 0.18088604830750238, 'threshold_2': 0.699318409549627, 'threshold_3': 0.54657568623999, 'threshold_4': 0.9266101058752645, 'threshold_5': 0.0264459277514294, 'threshold_6': 0.7948142354017395}. Best is trial 27 with value: 0.9139855548260013.\n",
      "/tmp/ipykernel_18/2274821513.py:5: FutureWarning: suggest_uniform has been deprecated in v3.0.0. This feature will be removed in v6.0.0. See https://github.com/optuna/optuna/releases/tag/v3.0.0. Use suggest_float instead.\n",
      "  thresholds[f'threshold_{i}'] = trial.suggest_uniform(f'threshold_{i}', 0.0, 1.0)\n",
      "[I 2024-02-23 16:32:28,862] Trial 39 finished with value: 0.9113591595535128 and parameters: {'threshold_0': 0.4264081392135216, 'threshold_1': 0.40185244971106177, 'threshold_2': 0.8429801452383574, 'threshold_3': 0.6898852592397584, 'threshold_4': 0.7016224093594254, 'threshold_5': 0.4427872145349665, 'threshold_6': 0.6893162642887203}. Best is trial 27 with value: 0.9139855548260013.\n",
      "/tmp/ipykernel_18/2274821513.py:5: FutureWarning: suggest_uniform has been deprecated in v3.0.0. This feature will be removed in v6.0.0. See https://github.com/optuna/optuna/releases/tag/v3.0.0. Use suggest_float instead.\n",
      "  thresholds[f'threshold_{i}'] = trial.suggest_uniform(f'threshold_{i}', 0.0, 1.0)\n",
      "[I 2024-02-23 16:32:28,900] Trial 40 finished with value: 0.9131100897351718 and parameters: {'threshold_0': 0.0371676941369751, 'threshold_1': 0.2970276919184738, 'threshold_2': 0.6362089226136513, 'threshold_3': 0.45842188684689006, 'threshold_4': 0.45920559645511183, 'threshold_5': 0.6373759332570328, 'threshold_6': 0.8589329066861815}. Best is trial 27 with value: 0.9139855548260013.\n",
      "/tmp/ipykernel_18/2274821513.py:5: FutureWarning: suggest_uniform has been deprecated in v3.0.0. This feature will be removed in v6.0.0. See https://github.com/optuna/optuna/releases/tag/v3.0.0. Use suggest_float instead.\n",
      "  thresholds[f'threshold_{i}'] = trial.suggest_uniform(f'threshold_{i}', 0.0, 1.0)\n",
      "[I 2024-02-23 16:32:28,938] Trial 41 finished with value: 0.9135478222805865 and parameters: {'threshold_0': 0.5899720809668239, 'threshold_1': 0.7041834626181127, 'threshold_2': 0.9084806951256783, 'threshold_3': 0.8218641027309067, 'threshold_4': 0.5510145028321011, 'threshold_5': 0.6405450960245818, 'threshold_6': 0.9500820419535014}. Best is trial 27 with value: 0.9139855548260013.\n",
      "/tmp/ipykernel_18/2274821513.py:5: FutureWarning: suggest_uniform has been deprecated in v3.0.0. This feature will be removed in v6.0.0. See https://github.com/optuna/optuna/releases/tag/v3.0.0. Use suggest_float instead.\n",
      "  thresholds[f'threshold_{i}'] = trial.suggest_uniform(f'threshold_{i}', 0.0, 1.0)\n",
      "[I 2024-02-23 16:32:28,976] Trial 42 finished with value: 0.9137666885532939 and parameters: {'threshold_0': 0.4418399577593329, 'threshold_1': 0.5224859970244494, 'threshold_2': 0.9468187531666742, 'threshold_3': 0.9134999010318616, 'threshold_4': 0.6231585895412719, 'threshold_5': 0.7345437669595765, 'threshold_6': 0.7914212688200621}. Best is trial 27 with value: 0.9139855548260013.\n",
      "/tmp/ipykernel_18/2274821513.py:5: FutureWarning: suggest_uniform has been deprecated in v3.0.0. This feature will be removed in v6.0.0. See https://github.com/optuna/optuna/releases/tag/v3.0.0. Use suggest_float instead.\n",
      "  thresholds[f'threshold_{i}'] = trial.suggest_uniform(f'threshold_{i}', 0.0, 1.0)\n",
      "[I 2024-02-23 16:32:29,016] Trial 43 finished with value: 0.9131100897351718 and parameters: {'threshold_0': 0.40517177127429416, 'threshold_1': 0.5439972925332149, 'threshold_2': 0.9386314767229855, 'threshold_3': 0.9314933569984678, 'threshold_4': 0.6094867126841389, 'threshold_5': 0.73132573102117, 'threshold_6': 0.715728855329817}. Best is trial 27 with value: 0.9139855548260013.\n",
      "/tmp/ipykernel_18/2274821513.py:5: FutureWarning: suggest_uniform has been deprecated in v3.0.0. This feature will be removed in v6.0.0. See https://github.com/optuna/optuna/releases/tag/v3.0.0. Use suggest_float instead.\n",
      "  thresholds[f'threshold_{i}'] = trial.suggest_uniform(f'threshold_{i}', 0.0, 1.0)\n",
      "[I 2024-02-23 16:32:29,054] Trial 44 finished with value: 0.9139855548260013 and parameters: {'threshold_0': 0.34382154394906983, 'threshold_1': 0.5077906089694826, 'threshold_2': 0.8072738986493746, 'threshold_3': 0.5946658152043097, 'threshold_4': 0.6823560742187698, 'threshold_5': 0.5523303513663016, 'threshold_6': 0.7834584628313365}. Best is trial 27 with value: 0.9139855548260013.\n",
      "/tmp/ipykernel_18/2274821513.py:5: FutureWarning: suggest_uniform has been deprecated in v3.0.0. This feature will be removed in v6.0.0. See https://github.com/optuna/optuna/releases/tag/v3.0.0. Use suggest_float instead.\n",
      "  thresholds[f'threshold_{i}'] = trial.suggest_uniform(f'threshold_{i}', 0.0, 1.0)\n",
      "[I 2024-02-23 16:32:29,093] Trial 45 finished with value: 0.9135478222805865 and parameters: {'threshold_0': 0.3266591108752254, 'threshold_1': 0.46222320307435816, 'threshold_2': 0.742651833798892, 'threshold_3': 0.5963607511287998, 'threshold_4': 0.7602622376758075, 'threshold_5': 0.4795207879759341, 'threshold_6': 0.6362583898987315}. Best is trial 27 with value: 0.9139855548260013.\n",
      "/tmp/ipykernel_18/2274821513.py:5: FutureWarning: suggest_uniform has been deprecated in v3.0.0. This feature will be removed in v6.0.0. See https://github.com/optuna/optuna/releases/tag/v3.0.0. Use suggest_float instead.\n",
      "  thresholds[f'threshold_{i}'] = trial.suggest_uniform(f'threshold_{i}', 0.0, 1.0)\n",
      "[I 2024-02-23 16:32:29,135] Trial 46 finished with value: 0.908513898008317 and parameters: {'threshold_0': 0.3474959065876705, 'threshold_1': 0.5176960749358147, 'threshold_2': 0.8072979277407841, 'threshold_3': 0.5600429602472068, 'threshold_4': 0.6803695395688463, 'threshold_5': 0.3031766445749543, 'threshold_6': 0.2691730117264944}. Best is trial 27 with value: 0.9139855548260013.\n",
      "/tmp/ipykernel_18/2274821513.py:5: FutureWarning: suggest_uniform has been deprecated in v3.0.0. This feature will be removed in v6.0.0. See https://github.com/optuna/optuna/releases/tag/v3.0.0. Use suggest_float instead.\n",
      "  thresholds[f'threshold_{i}'] = trial.suggest_uniform(f'threshold_{i}', 0.0, 1.0)\n",
      "[I 2024-02-23 16:32:29,175] Trial 47 finished with value: 0.9067629678266579 and parameters: {'threshold_0': 0.18238733795722914, 'threshold_1': 0.5782700646016822, 'threshold_2': 0.011936363004000805, 'threshold_3': 0.6239236646271349, 'threshold_4': 0.7346399429350458, 'threshold_5': 0.5541332320703235, 'threshold_6': 0.5761428197468276}. Best is trial 27 with value: 0.9139855548260013.\n",
      "/tmp/ipykernel_18/2274821513.py:5: FutureWarning: suggest_uniform has been deprecated in v3.0.0. This feature will be removed in v6.0.0. See https://github.com/optuna/optuna/releases/tag/v3.0.0. Use suggest_float instead.\n",
      "  thresholds[f'threshold_{i}'] = trial.suggest_uniform(f'threshold_{i}', 0.0, 1.0)\n",
      "[I 2024-02-23 16:32:29,215] Trial 48 finished with value: 0.9124534909170496 and parameters: {'threshold_0': 0.3103486877064392, 'threshold_1': 0.32402723270431794, 'threshold_2': 0.5837459234203357, 'threshold_3': 0.31450892789729756, 'threshold_4': 0.8052458904005823, 'threshold_5': 0.510472991064451, 'threshold_6': 0.7766978740544185}. Best is trial 27 with value: 0.9139855548260013.\n",
      "/tmp/ipykernel_18/2274821513.py:5: FutureWarning: suggest_uniform has been deprecated in v3.0.0. This feature will be removed in v6.0.0. See https://github.com/optuna/optuna/releases/tag/v3.0.0. Use suggest_float instead.\n",
      "  thresholds[f'threshold_{i}'] = trial.suggest_uniform(f'threshold_{i}', 0.0, 1.0)\n",
      "[I 2024-02-23 16:32:29,253] Trial 49 finished with value: 0.912015758371635 and parameters: {'threshold_0': 0.46951033748125254, 'threshold_1': 0.38374423280226605, 'threshold_2': 0.4609138824642472, 'threshold_3': 0.7421763177240599, 'threshold_4': 0.8868353322428091, 'threshold_5': 0.5725684943666649, 'threshold_6': 0.6677647246582663}. Best is trial 27 with value: 0.9139855548260013.\n",
      "/tmp/ipykernel_18/2274821513.py:5: FutureWarning: suggest_uniform has been deprecated in v3.0.0. This feature will be removed in v6.0.0. See https://github.com/optuna/optuna/releases/tag/v3.0.0. Use suggest_float instead.\n",
      "  thresholds[f'threshold_{i}'] = trial.suggest_uniform(f'threshold_{i}', 0.0, 1.0)\n",
      "[I 2024-02-23 16:32:29,293] Trial 50 finished with value: 0.9142044210987087 and parameters: {'threshold_0': 0.099891329764591, 'threshold_1': 0.5083326860377968, 'threshold_2': 0.3511376738569743, 'threshold_3': 0.6896781007508572, 'threshold_4': 0.3514299087723463, 'threshold_5': 0.6389793233939873, 'threshold_6': 0.7133069667551435}. Best is trial 50 with value: 0.9142044210987087.\n",
      "/tmp/ipykernel_18/2274821513.py:5: FutureWarning: suggest_uniform has been deprecated in v3.0.0. This feature will be removed in v6.0.0. See https://github.com/optuna/optuna/releases/tag/v3.0.0. Use suggest_float instead.\n",
      "  thresholds[f'threshold_{i}'] = trial.suggest_uniform(f'threshold_{i}', 0.0, 1.0)\n",
      "[I 2024-02-23 16:32:29,331] Trial 51 finished with value: 0.9137666885532939 and parameters: {'threshold_0': 0.14499282185768136, 'threshold_1': 0.5161221929246226, 'threshold_2': 0.3609786616695671, 'threshold_3': 0.6682574648491804, 'threshold_4': 0.37241226449332665, 'threshold_5': 0.6480544890260669, 'threshold_6': 0.7385078430814946}. Best is trial 50 with value: 0.9142044210987087.\n",
      "/tmp/ipykernel_18/2274821513.py:5: FutureWarning: suggest_uniform has been deprecated in v3.0.0. This feature will be removed in v6.0.0. See https://github.com/optuna/optuna/releases/tag/v3.0.0. Use suggest_float instead.\n",
      "  thresholds[f'threshold_{i}'] = trial.suggest_uniform(f'threshold_{i}', 0.0, 1.0)\n",
      "[I 2024-02-23 16:32:29,372] Trial 52 finished with value: 0.9133289560078792 and parameters: {'threshold_0': 0.09207028579194251, 'threshold_1': 0.4388215025720372, 'threshold_2': 0.3630113968197307, 'threshold_3': 0.6887323989664398, 'threshold_4': 0.470484857150584, 'threshold_5': 0.7568933735948258, 'threshold_6': 0.7101784258309706}. Best is trial 50 with value: 0.9142044210987087.\n",
      "/tmp/ipykernel_18/2274821513.py:5: FutureWarning: suggest_uniform has been deprecated in v3.0.0. This feature will be removed in v6.0.0. See https://github.com/optuna/optuna/releases/tag/v3.0.0. Use suggest_float instead.\n",
      "  thresholds[f'threshold_{i}'] = trial.suggest_uniform(f'threshold_{i}', 0.0, 1.0)\n",
      "[I 2024-02-23 16:32:29,415] Trial 53 finished with value: 0.9117968920989276 and parameters: {'threshold_0': 0.2745851478682434, 'threshold_1': 0.515245070722967, 'threshold_2': 0.8740953706577544, 'threshold_3': 0.82083335064669, 'threshold_4': 0.30274216988090397, 'threshold_5': 0.4213861560462385, 'threshold_6': 0.7820507853465214}. Best is trial 50 with value: 0.9142044210987087.\n",
      "/tmp/ipykernel_18/2274821513.py:5: FutureWarning: suggest_uniform has been deprecated in v3.0.0. This feature will be removed in v6.0.0. See https://github.com/optuna/optuna/releases/tag/v3.0.0. Use suggest_float instead.\n",
      "  thresholds[f'threshold_{i}'] = trial.suggest_uniform(f'threshold_{i}', 0.0, 1.0)\n",
      "[I 2024-02-23 16:32:29,461] Trial 54 finished with value: 0.908513898008317 and parameters: {'threshold_0': 0.20956975458096944, 'threshold_1': 0.4100092828604396, 'threshold_2': 0.5121723465703795, 'threshold_3': 0.4817390898105166, 'threshold_4': 0.4306978764293263, 'threshold_5': 0.3340504198057455, 'threshold_6': 0.8965928201775731}. Best is trial 50 with value: 0.9142044210987087.\n",
      "/tmp/ipykernel_18/2274821513.py:5: FutureWarning: suggest_uniform has been deprecated in v3.0.0. This feature will be removed in v6.0.0. See https://github.com/optuna/optuna/releases/tag/v3.0.0. Use suggest_float instead.\n",
      "  thresholds[f'threshold_{i}'] = trial.suggest_uniform(f'threshold_{i}', 0.0, 1.0)\n",
      "[I 2024-02-23 16:32:29,510] Trial 55 finished with value: 0.9139855548260013 and parameters: {'threshold_0': 0.03855227191244137, 'threshold_1': 0.6112044728390398, 'threshold_2': 0.678307424989645, 'threshold_3': 0.5977312605360974, 'threshold_4': 0.6082173426046575, 'threshold_5': 0.8181325639292619, 'threshold_6': 0.6379450248263081}. Best is trial 50 with value: 0.9142044210987087.\n",
      "/tmp/ipykernel_18/2274821513.py:5: FutureWarning: suggest_uniform has been deprecated in v3.0.0. This feature will be removed in v6.0.0. See https://github.com/optuna/optuna/releases/tag/v3.0.0. Use suggest_float instead.\n",
      "  thresholds[f'threshold_{i}'] = trial.suggest_uniform(f'threshold_{i}', 0.0, 1.0)\n",
      "[I 2024-02-23 16:32:29,568] Trial 56 finished with value: 0.9137666885532939 and parameters: {'threshold_0': 0.02097593888218041, 'threshold_1': 0.597791749305835, 'threshold_2': 0.6717492877217713, 'threshold_3': 0.6213149168781946, 'threshold_4': 0.259929135040315, 'threshold_5': 0.8319401157789684, 'threshold_6': 0.643488570076235}. Best is trial 50 with value: 0.9142044210987087.\n",
      "/tmp/ipykernel_18/2274821513.py:5: FutureWarning: suggest_uniform has been deprecated in v3.0.0. This feature will be removed in v6.0.0. See https://github.com/optuna/optuna/releases/tag/v3.0.0. Use suggest_float instead.\n",
      "  thresholds[f'threshold_{i}'] = trial.suggest_uniform(f'threshold_{i}', 0.0, 1.0)\n",
      "[I 2024-02-23 16:32:29,609] Trial 57 finished with value: 0.9131100897351718 and parameters: {'threshold_0': 0.0535624207910661, 'threshold_1': 0.3617438142627507, 'threshold_2': 0.7273362721779182, 'threshold_3': 0.5197253740806109, 'threshold_4': 0.5194042450090293, 'threshold_5': 0.9570694506955152, 'threshold_6': 0.5136570288914084}. Best is trial 50 with value: 0.9142044210987087.\n",
      "/tmp/ipykernel_18/2274821513.py:5: FutureWarning: suggest_uniform has been deprecated in v3.0.0. This feature will be removed in v6.0.0. See https://github.com/optuna/optuna/releases/tag/v3.0.0. Use suggest_float instead.\n",
      "  thresholds[f'threshold_{i}'] = trial.suggest_uniform(f'threshold_{i}', 0.0, 1.0)\n",
      "[I 2024-02-23 16:32:29,651] Trial 58 finished with value: 0.9142044210987087 and parameters: {'threshold_0': 0.10359728199369633, 'threshold_1': 0.4703610116112829, 'threshold_2': 0.6084216626116413, 'threshold_3': 0.5952926060933263, 'threshold_4': 0.5959469838603411, 'threshold_5': 0.5765110738842454, 'threshold_6': 0.5652381880633242}. Best is trial 50 with value: 0.9142044210987087.\n",
      "/tmp/ipykernel_18/2274821513.py:5: FutureWarning: suggest_uniform has been deprecated in v3.0.0. This feature will be removed in v6.0.0. See https://github.com/optuna/optuna/releases/tag/v3.0.0. Use suggest_float instead.\n",
      "  thresholds[f'threshold_{i}'] = trial.suggest_uniform(f'threshold_{i}', 0.0, 1.0)\n",
      "[I 2024-02-23 16:32:29,693] Trial 59 finished with value: 0.9131100897351718 and parameters: {'threshold_0': 0.09121113963798094, 'threshold_1': 0.6945479718152645, 'threshold_2': 0.5876269088599677, 'threshold_3': 0.5883249784224841, 'threshold_4': 0.3487587098759642, 'threshold_5': 0.46217514875654797, 'threshold_6': 0.569864981993564}. Best is trial 50 with value: 0.9142044210987087.\n",
      "/tmp/ipykernel_18/2274821513.py:5: FutureWarning: suggest_uniform has been deprecated in v3.0.0. This feature will be removed in v6.0.0. See https://github.com/optuna/optuna/releases/tag/v3.0.0. Use suggest_float instead.\n",
      "  thresholds[f'threshold_{i}'] = trial.suggest_uniform(f'threshold_{i}', 0.0, 1.0)\n",
      "[I 2024-02-23 16:32:29,735] Trial 60 finished with value: 0.9137666885532939 and parameters: {'threshold_0': 0.12153019678960103, 'threshold_1': 0.6140450387831479, 'threshold_2': 0.6266822048047542, 'threshold_3': 0.3971873774851844, 'threshold_4': 0.6701515827552477, 'threshold_5': 0.5771305496966439, 'threshold_6': 0.6584863020621347}. Best is trial 50 with value: 0.9142044210987087.\n",
      "/tmp/ipykernel_18/2274821513.py:5: FutureWarning: suggest_uniform has been deprecated in v3.0.0. This feature will be removed in v6.0.0. See https://github.com/optuna/optuna/releases/tag/v3.0.0. Use suggest_float instead.\n",
      "  thresholds[f'threshold_{i}'] = trial.suggest_uniform(f'threshold_{i}', 0.0, 1.0)\n",
      "[I 2024-02-23 16:32:29,775] Trial 61 finished with value: 0.9115780258262202 and parameters: {'threshold_0': 0.0005382473970251267, 'threshold_1': 0.46673700590206113, 'threshold_2': 0.45841670873568896, 'threshold_3': 0.7520579807424815, 'threshold_4': 0.5931302781695943, 'threshold_5': 0.6331954411960252, 'threshold_6': 0.39310679110801205}. Best is trial 50 with value: 0.9142044210987087.\n",
      "/tmp/ipykernel_18/2274821513.py:5: FutureWarning: suggest_uniform has been deprecated in v3.0.0. This feature will be removed in v6.0.0. See https://github.com/optuna/optuna/releases/tag/v3.0.0. Use suggest_float instead.\n",
      "  thresholds[f'threshold_{i}'] = trial.suggest_uniform(f'threshold_{i}', 0.0, 1.0)\n",
      "[I 2024-02-23 16:32:29,816] Trial 62 finished with value: 0.9135478222805865 and parameters: {'threshold_0': 0.07016616527927072, 'threshold_1': 0.4821830314852368, 'threshold_2': 0.5405218279916773, 'threshold_3': 0.7027832127483447, 'threshold_4': 0.44776844184782283, 'threshold_5': 0.5384297517617853, 'threshold_6': 0.6004980409904711}. Best is trial 50 with value: 0.9142044210987087.\n",
      "/tmp/ipykernel_18/2274821513.py:5: FutureWarning: suggest_uniform has been deprecated in v3.0.0. This feature will be removed in v6.0.0. See https://github.com/optuna/optuna/releases/tag/v3.0.0. Use suggest_float instead.\n",
      "  thresholds[f'threshold_{i}'] = trial.suggest_uniform(f'threshold_{i}', 0.0, 1.0)\n",
      "[I 2024-02-23 16:32:29,857] Trial 63 finished with value: 0.9131100897351718 and parameters: {'threshold_0': 0.11632811889370975, 'threshold_1': 0.43586707302719496, 'threshold_2': 0.656882130029844, 'threshold_3': 0.6522074647289803, 'threshold_4': 0.654295619520338, 'threshold_5': 0.7991188648538441, 'threshold_6': 0.45275687312273727}. Best is trial 50 with value: 0.9142044210987087.\n",
      "/tmp/ipykernel_18/2274821513.py:5: FutureWarning: suggest_uniform has been deprecated in v3.0.0. This feature will be removed in v6.0.0. See https://github.com/optuna/optuna/releases/tag/v3.0.0. Use suggest_float instead.\n",
      "  thresholds[f'threshold_{i}'] = trial.suggest_uniform(f'threshold_{i}', 0.0, 1.0)\n",
      "[I 2024-02-23 16:32:29,899] Trial 64 finished with value: 0.912015758371635 and parameters: {'threshold_0': 0.17556998831914233, 'threshold_1': 0.5502370476034528, 'threshold_2': 0.40253892506017935, 'threshold_3': 0.5656765148374712, 'threshold_4': 0.7036300502386853, 'threshold_5': 0.496632642840937, 'threshold_6': 0.6952001473027158}. Best is trial 50 with value: 0.9142044210987087.\n",
      "/tmp/ipykernel_18/2274821513.py:5: FutureWarning: suggest_uniform has been deprecated in v3.0.0. This feature will be removed in v6.0.0. See https://github.com/optuna/optuna/releases/tag/v3.0.0. Use suggest_float instead.\n",
      "  thresholds[f'threshold_{i}'] = trial.suggest_uniform(f'threshold_{i}', 0.0, 1.0)\n",
      "[I 2024-02-23 16:32:29,941] Trial 65 finished with value: 0.9128912234624644 and parameters: {'threshold_0': 0.7752372374579325, 'threshold_1': 0.3371683035312796, 'threshold_2': 0.7220929036805555, 'threshold_3': 0.6238278044908143, 'threshold_4': 0.398238506776468, 'threshold_5': 0.663208363130961, 'threshold_6': 0.4790331671506971}. Best is trial 50 with value: 0.9142044210987087.\n",
      "/tmp/ipykernel_18/2274821513.py:5: FutureWarning: suggest_uniform has been deprecated in v3.0.0. This feature will be removed in v6.0.0. See https://github.com/optuna/optuna/releases/tag/v3.0.0. Use suggest_float instead.\n",
      "  thresholds[f'threshold_{i}'] = trial.suggest_uniform(f'threshold_{i}', 0.0, 1.0)\n",
      "[I 2024-02-23 16:32:29,983] Trial 66 finished with value: 0.9135478222805865 and parameters: {'threshold_0': 0.665429734772573, 'threshold_1': 0.5785589661292424, 'threshold_2': 0.7985337826645871, 'threshold_3': 0.5429122659667043, 'threshold_4': 0.5153835301813041, 'threshold_5': 0.6136538043150532, 'threshold_6': 0.8162013811172435}. Best is trial 50 with value: 0.9142044210987087.\n",
      "/tmp/ipykernel_18/2274821513.py:5: FutureWarning: suggest_uniform has been deprecated in v3.0.0. This feature will be removed in v6.0.0. See https://github.com/optuna/optuna/releases/tag/v3.0.0. Use suggest_float instead.\n",
      "  thresholds[f'threshold_{i}'] = trial.suggest_uniform(f'threshold_{i}', 0.0, 1.0)\n",
      "[I 2024-02-23 16:32:30,025] Trial 67 finished with value: 0.9135478222805865 and parameters: {'threshold_0': 0.21022885167050098, 'threshold_1': 0.39017983659187905, 'threshold_2': 0.6079117452355169, 'threshold_3': 0.4868400492739542, 'threshold_4': 0.7966918309213805, 'threshold_5': 0.863365687156829, 'threshold_6': 0.7502290796648021}. Best is trial 50 with value: 0.9142044210987087.\n",
      "/tmp/ipykernel_18/2274821513.py:5: FutureWarning: suggest_uniform has been deprecated in v3.0.0. This feature will be removed in v6.0.0. See https://github.com/optuna/optuna/releases/tag/v3.0.0. Use suggest_float instead.\n",
      "  thresholds[f'threshold_{i}'] = trial.suggest_uniform(f'threshold_{i}', 0.0, 1.0)\n",
      "[I 2024-02-23 16:32:30,068] Trial 68 finished with value: 0.9131100897351718 and parameters: {'threshold_0': 0.6034165248870893, 'threshold_1': 0.4447468301194921, 'threshold_2': 0.5446089503607475, 'threshold_3': 0.664632679458304, 'threshold_4': 0.08271254697954411, 'threshold_5': 0.7534619586963296, 'threshold_6': 0.549889943242343}. Best is trial 50 with value: 0.9142044210987087.\n",
      "/tmp/ipykernel_18/2274821513.py:5: FutureWarning: suggest_uniform has been deprecated in v3.0.0. This feature will be removed in v6.0.0. See https://github.com/optuna/optuna/releases/tag/v3.0.0. Use suggest_float instead.\n",
      "  thresholds[f'threshold_{i}'] = trial.suggest_uniform(f'threshold_{i}', 0.0, 1.0)\n",
      "[I 2024-02-23 16:32:30,110] Trial 69 finished with value: 0.9137666885532939 and parameters: {'threshold_0': 0.15948558754383624, 'threshold_1': 0.490391121358843, 'threshold_2': 0.8628443761415372, 'threshold_3': 0.7684454409006182, 'threshold_4': 0.5724493712509819, 'threshold_5': 0.5956807245580368, 'threshold_6': 0.8552562088125782}. Best is trial 50 with value: 0.9142044210987087.\n"
     ]
    }
   ],
   "source": [
    "# Optimize thresholds using Optuna\n",
    "def objective(trial):\n",
    "    thresholds = {}\n",
    "    for i in range(num_classes):\n",
    "        thresholds[f'threshold_{i}'] = trial.suggest_uniform(f'threshold_{i}', 0.0, 1.0)\n",
    "    y_pred = apply_thresholds(pred_proba, thresholds)\n",
    "    accuracy = accuracy_score(y_val, y_pred)\n",
    "    return accuracy\n",
    "\n",
    "def apply_thresholds(y_proba, thresholds):\n",
    "    y_pred_labels = np.argmax(y_proba, axis=1)\n",
    "    for i in range(y_proba.shape[1]):\n",
    "        y_pred_labels[y_proba[:, i] > thresholds[f'threshold_{i}']] = i\n",
    "    return y_pred_labels\n",
    "\n",
    "num_classes = 7\n",
    "study = optuna.create_study(direction='maximize')\n",
    "study.optimize(objective, n_trials=70)\n"
   ]
  },
  {
   "cell_type": "code",
   "execution_count": 9,
   "id": "0121171d",
   "metadata": {
    "execution": {
     "iopub.execute_input": "2024-02-23T16:32:30.143132Z",
     "iopub.status.busy": "2024-02-23T16:32:30.142453Z",
     "iopub.status.idle": "2024-02-23T16:32:30.148236Z",
     "shell.execute_reply": "2024-02-23T16:32:30.147086Z"
    },
    "papermill": {
     "duration": 0.021321,
     "end_time": "2024-02-23T16:32:30.150719",
     "exception": false,
     "start_time": "2024-02-23T16:32:30.129398",
     "status": "completed"
    },
    "tags": []
   },
   "outputs": [
    {
     "name": "stdout",
     "output_type": "stream",
     "text": [
      "Best Thresholds: {'threshold_0': 0.099891329764591, 'threshold_1': 0.5083326860377968, 'threshold_2': 0.3511376738569743, 'threshold_3': 0.6896781007508572, 'threshold_4': 0.3514299087723463, 'threshold_5': 0.6389793233939873, 'threshold_6': 0.7133069667551435}\n"
     ]
    }
   ],
   "source": [
    "# Get the best thresholds\n",
    "best_thresholds = study.best_params\n",
    "print(\"Best Thresholds:\", best_thresholds)\n"
   ]
  },
  {
   "cell_type": "code",
   "execution_count": 10,
   "id": "6cddcdca",
   "metadata": {
    "execution": {
     "iopub.execute_input": "2024-02-23T16:32:30.177735Z",
     "iopub.status.busy": "2024-02-23T16:32:30.177329Z",
     "iopub.status.idle": "2024-02-23T16:32:35.699520Z",
     "shell.execute_reply": "2024-02-23T16:32:35.698592Z"
    },
    "papermill": {
     "duration": 5.53913,
     "end_time": "2024-02-23T16:32:35.701933",
     "exception": false,
     "start_time": "2024-02-23T16:32:30.162803",
     "status": "completed"
    },
    "tags": []
   },
   "outputs": [],
   "source": [
    "# Apply thresholds to test data and make predictions\n",
    "threshold = {'threshold_0': 0.17884231879780574, 'threshold_1':  0.48561839962867365, 'threshold_2': 0.9219939474024544,\n",
    "             'threshold_3': 0.35636557998085017, 'threshold_4': 0.6660333089412345, 'threshold_5': 0.7809118861672213,\n",
    "             'threshold_6': 0.9152343943891742}\n",
    "test_label = model_lgb.predict_proba(X_test)\n",
    "test_label = apply_thresholds(test_label, threshold)\n",
    "pred = labelencoder.inverse_transform(test_label)"
   ]
  },
  {
   "cell_type": "code",
   "execution_count": 11,
   "id": "7c085424",
   "metadata": {
    "execution": {
     "iopub.execute_input": "2024-02-23T16:32:35.728639Z",
     "iopub.status.busy": "2024-02-23T16:32:35.727665Z",
     "iopub.status.idle": "2024-02-23T16:32:35.752535Z",
     "shell.execute_reply": "2024-02-23T16:32:35.751648Z"
    },
    "papermill": {
     "duration": 0.04092,
     "end_time": "2024-02-23T16:32:35.754971",
     "exception": false,
     "start_time": "2024-02-23T16:32:35.714051",
     "status": "completed"
    },
    "tags": []
   },
   "outputs": [],
   "source": [
    "# Create submission file\n",
    "submission = pd.DataFrame({'id': test_data.id, 'NObeyesdad': pred})\n",
    "submission.to_csv('submission.csv', index=False)"
   ]
  },
  {
   "cell_type": "code",
   "execution_count": null,
   "id": "b7e3dcff",
   "metadata": {
    "papermill": {
     "duration": 0.011398,
     "end_time": "2024-02-23T16:32:35.778270",
     "exception": false,
     "start_time": "2024-02-23T16:32:35.766872",
     "status": "completed"
    },
    "tags": []
   },
   "outputs": [],
   "source": []
  }
 ],
 "metadata": {
  "kaggle": {
   "accelerator": "none",
   "dataSources": [
    {
     "databundleVersionId": 7609535,
     "sourceId": 68479,
     "sourceType": "competition"
    },
    {
     "datasetId": 4030196,
     "sourceId": 7009925,
     "sourceType": "datasetVersion"
    }
   ],
   "dockerImageVersionId": 30646,
   "isGpuEnabled": false,
   "isInternetEnabled": true,
   "language": "python",
   "sourceType": "notebook"
  },
  "kernelspec": {
   "display_name": "Python 3",
   "language": "python",
   "name": "python3"
  },
  "language_info": {
   "codemirror_mode": {
    "name": "ipython",
    "version": 3
   },
   "file_extension": ".py",
   "mimetype": "text/x-python",
   "name": "python",
   "nbconvert_exporter": "python",
   "pygments_lexer": "ipython3",
   "version": "3.10.13"
  },
  "papermill": {
   "default_parameters": {},
   "duration": 36.450804,
   "end_time": "2024-02-23T16:32:36.611023",
   "environment_variables": {},
   "exception": null,
   "input_path": "__notebook__.ipynb",
   "output_path": "__notebook__.ipynb",
   "parameters": {},
   "start_time": "2024-02-23T16:32:00.160219",
   "version": "2.5.0"
  }
 },
 "nbformat": 4,
 "nbformat_minor": 5
}
