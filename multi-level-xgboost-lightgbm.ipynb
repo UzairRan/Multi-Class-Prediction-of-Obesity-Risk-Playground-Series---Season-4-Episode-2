{
 "cells": [
  {
   "cell_type": "code",
   "execution_count": 1,
   "id": "1e919c0e",
   "metadata": {
    "_cell_guid": "b1076dfc-b9ad-4769-8c92-a6c4dae69d19",
    "_uuid": "8f2839f25d086af736a60e9eeb907d3b93b6e0e5",
    "execution": {
     "iopub.execute_input": "2024-02-27T19:13:27.520943Z",
     "iopub.status.busy": "2024-02-27T19:13:27.520553Z",
     "iopub.status.idle": "2024-02-27T19:13:31.766671Z",
     "shell.execute_reply": "2024-02-27T19:13:31.765188Z"
    },
    "papermill": {
     "duration": 4.257431,
     "end_time": "2024-02-27T19:13:31.769664",
     "exception": false,
     "start_time": "2024-02-27T19:13:27.512233",
     "status": "completed"
    },
    "tags": []
   },
   "outputs": [],
   "source": [
    "import pandas as pd\n",
    "import numpy as np\n",
    "from sklearn.preprocessing import LabelEncoder, StandardScaler\n",
    "from sklearn.model_selection import cross_val_score, StratifiedKFold\n",
    "from sklearn.metrics import accuracy_score\n",
    "import lightgbm as lgb\n",
    "import xgboost as xgb"
   ]
  },
  {
   "cell_type": "code",
   "execution_count": 2,
   "id": "d4c03b03",
   "metadata": {
    "execution": {
     "iopub.execute_input": "2024-02-27T19:13:31.783011Z",
     "iopub.status.busy": "2024-02-27T19:13:31.782635Z",
     "iopub.status.idle": "2024-02-27T19:13:32.004138Z",
     "shell.execute_reply": "2024-02-27T19:13:32.002821Z"
    },
    "papermill": {
     "duration": 0.231764,
     "end_time": "2024-02-27T19:13:32.007270",
     "exception": false,
     "start_time": "2024-02-27T19:13:31.775506",
     "status": "completed"
    },
    "tags": []
   },
   "outputs": [],
   "source": [
    "# Load Data\n",
    "train_data = pd.read_csv(\"/kaggle/input/playground-series-s4e2/train.csv\")\n",
    "test_data = pd.read_csv(\"/kaggle/input/playground-series-s4e2/test.csv\")\n",
    "original_data = pd.read_csv(\"/kaggle/input/obesity-or-cvd-risk-classifyregressorcluster/ObesityDataSet.csv\")\n"
   ]
  },
  {
   "cell_type": "code",
   "execution_count": 3,
   "id": "3c781d57",
   "metadata": {
    "execution": {
     "iopub.execute_input": "2024-02-27T19:13:32.021089Z",
     "iopub.status.busy": "2024-02-27T19:13:32.020686Z",
     "iopub.status.idle": "2024-02-27T19:13:32.097428Z",
     "shell.execute_reply": "2024-02-27T19:13:32.095983Z"
    },
    "papermill": {
     "duration": 0.087555,
     "end_time": "2024-02-27T19:13:32.100684",
     "exception": false,
     "start_time": "2024-02-27T19:13:32.013129",
     "status": "completed"
    },
    "tags": []
   },
   "outputs": [],
   "source": [
    "# Merge Data\n",
    "train_data = train_data.drop(\"id\", axis=1)\n",
    "train_data = pd.concat([train_data, original_data], ignore_index=True).drop_duplicates()\n"
   ]
  },
  {
   "cell_type": "code",
   "execution_count": 4,
   "id": "502fb034",
   "metadata": {
    "execution": {
     "iopub.execute_input": "2024-02-27T19:13:32.114333Z",
     "iopub.status.busy": "2024-02-27T19:13:32.113795Z",
     "iopub.status.idle": "2024-02-27T19:13:32.139232Z",
     "shell.execute_reply": "2024-02-27T19:13:32.137457Z"
    },
    "papermill": {
     "duration": 0.035907,
     "end_time": "2024-02-27T19:13:32.142321",
     "exception": false,
     "start_time": "2024-02-27T19:13:32.106414",
     "status": "completed"
    },
    "tags": []
   },
   "outputs": [],
   "source": [
    "# Feature Scaling\n",
    "scaler = StandardScaler()\n",
    "num_cols = list(train_data.select_dtypes(exclude=['object']).columns)\n",
    "train_data[num_cols] = scaler.fit_transform(train_data[num_cols])\n",
    "test_data[num_cols] = scaler.transform(test_data[num_cols])\n",
    "\n"
   ]
  },
  {
   "cell_type": "code",
   "execution_count": 5,
   "id": "72649839",
   "metadata": {
    "execution": {
     "iopub.execute_input": "2024-02-27T19:13:32.155456Z",
     "iopub.status.busy": "2024-02-27T19:13:32.155008Z",
     "iopub.status.idle": "2024-02-27T19:13:32.258086Z",
     "shell.execute_reply": "2024-02-27T19:13:32.256695Z"
    },
    "papermill": {
     "duration": 0.113215,
     "end_time": "2024-02-27T19:13:32.261090",
     "exception": false,
     "start_time": "2024-02-27T19:13:32.147875",
     "status": "completed"
    },
    "tags": []
   },
   "outputs": [],
   "source": [
    "# Encoding Categorical Variables\n",
    "labelencoder = LabelEncoder()\n",
    "object_columns = train_data.select_dtypes(include='object').columns.difference(['NObeyesdad'])\n",
    "\n",
    "for col_name in object_columns:\n",
    "    if train_data[col_name].dtypes == 'object':\n",
    "        train_data[col_name] = labelencoder.fit_transform(train_data[col_name])\n",
    "        test_data[col_name] = labelencoder.transform(test_data[col_name])\n",
    "\n"
   ]
  },
  {
   "cell_type": "code",
   "execution_count": 6,
   "id": "f6aee7e4",
   "metadata": {
    "execution": {
     "iopub.execute_input": "2024-02-27T19:13:32.275989Z",
     "iopub.status.busy": "2024-02-27T19:13:32.275567Z",
     "iopub.status.idle": "2024-02-27T19:13:32.293600Z",
     "shell.execute_reply": "2024-02-27T19:13:32.292688Z"
    },
    "papermill": {
     "duration": 0.029805,
     "end_time": "2024-02-27T19:13:32.296574",
     "exception": false,
     "start_time": "2024-02-27T19:13:32.266769",
     "status": "completed"
    },
    "tags": []
   },
   "outputs": [],
   "source": [
    "# Define Features and Target\n",
    "X = train_data.drop(['NObeyesdad'], axis=1)\n",
    "y = labelencoder.fit_transform(train_data['NObeyesdad'])\n",
    "X_test = test_data.drop([\"id\"], axis=1)\n"
   ]
  },
  {
   "cell_type": "code",
   "execution_count": 7,
   "id": "85ab0653",
   "metadata": {
    "execution": {
     "iopub.execute_input": "2024-02-27T19:13:32.311258Z",
     "iopub.status.busy": "2024-02-27T19:13:32.310144Z",
     "iopub.status.idle": "2024-02-27T19:13:32.317528Z",
     "shell.execute_reply": "2024-02-27T19:13:32.315920Z"
    },
    "papermill": {
     "duration": 0.017953,
     "end_time": "2024-02-27T19:13:32.320570",
     "exception": false,
     "start_time": "2024-02-27T19:13:32.302617",
     "status": "completed"
    },
    "tags": []
   },
   "outputs": [],
   "source": [
    "# Define LightGBM model parameters\n",
    "lgb_param = {\n",
    "    \"objective\": \"multiclass\",\n",
    "    \"metric\": \"multi_logloss\",\n",
    "    \"verbosity\": -1,\n",
    "    \"boosting_type\": \"gbdt\",\n",
    "    \"random_state\": 42,\n",
    "    \"num_class\": 7,\n",
    "    'learning_rate': 0.030962211546832760,\n",
    "    'n_estimators': 500,\n",
    "    'lambda_l1': 0.009667446568254372,\n",
    "    'lambda_l2': 0.04018641437301800,\n",
    "    'max_depth': 10,\n",
    "    'colsample_bytree': 0.40977129346872643,\n",
    "    'subsample': 0.9535797422450176,\n",
    "    'min_child_samples': 26\n",
    "}\n",
    "\n",
    "\n"
   ]
  },
  {
   "cell_type": "code",
   "execution_count": 8,
   "id": "65975785",
   "metadata": {
    "execution": {
     "iopub.execute_input": "2024-02-27T19:13:32.333637Z",
     "iopub.status.busy": "2024-02-27T19:13:32.333189Z",
     "iopub.status.idle": "2024-02-27T19:13:32.339867Z",
     "shell.execute_reply": "2024-02-27T19:13:32.338414Z"
    },
    "papermill": {
     "duration": 0.016044,
     "end_time": "2024-02-27T19:13:32.342331",
     "exception": false,
     "start_time": "2024-02-27T19:13:32.326287",
     "status": "completed"
    },
    "tags": []
   },
   "outputs": [],
   "source": [
    "# Define XGBoost model parameters\n",
    "xgb_param = {\n",
    "    'objective': 'multi:softmax',\n",
    "    'num_class': 7,\n",
    "    'learning_rate': 0.1,\n",
    "    'max_depth': 6,\n",
    "    'subsample': 0.8,\n",
    "    'colsample_bytree': 0.8,\n",
    "    'gamma': 0,\n",
    "    'seed': 42\n",
    "}"
   ]
  },
  {
   "cell_type": "code",
   "execution_count": 9,
   "id": "dfd70953",
   "metadata": {
    "execution": {
     "iopub.execute_input": "2024-02-27T19:13:32.356790Z",
     "iopub.status.busy": "2024-02-27T19:13:32.355409Z",
     "iopub.status.idle": "2024-02-27T19:15:40.921586Z",
     "shell.execute_reply": "2024-02-27T19:15:40.919737Z"
    },
    "papermill": {
     "duration": 128.577042,
     "end_time": "2024-02-27T19:15:40.925068",
     "exception": false,
     "start_time": "2024-02-27T19:13:32.348026",
     "status": "completed"
    },
    "tags": []
   },
   "outputs": [],
   "source": [
    "# Multi-Level Cross-Validation\n",
    "outer_cv = StratifiedKFold(n_splits=5, shuffle=True, random_state=42)\n",
    "\n",
    "# Initialize lists to store validation accuracies and predictions\n",
    "val_accuracies_lgb = []\n",
    "val_accuracies_xgb = []\n",
    "test_preds_lgb = []\n",
    "test_preds_xgb = []\n",
    "\n",
    "for train_index, val_index in outer_cv.split(X, y):\n",
    "    X_train, X_val = X.iloc[train_index], X.iloc[val_index]\n",
    "    y_train, y_val = y[train_index], y[val_index]\n",
    "\n",
    "    # Train LightGBM model\n",
    "    model_lgb = lgb.LGBMClassifier(**lgb_param, verbose=100)\n",
    "    model_lgb.fit(X_train, y_train)\n",
    "\n",
    "    # Make predictions on validation set using LightGBM\n",
    "    pred_proba_lgb = model_lgb.predict_proba(X_val)\n",
    "    y_pred_lgb = np.argmax(pred_proba_lgb, axis=1)\n",
    "    val_accuracy_lgb = accuracy_score(y_val, y_pred_lgb)\n",
    "    val_accuracies_lgb.append(val_accuracy_lgb)\n",
    "\n",
    "    # Train XGBoost model\n",
    "    dtrain = xgb.DMatrix(X_train, label=y_train)\n",
    "    dval = xgb.DMatrix(X_val)\n",
    "    num_round = 100\n",
    "    model_xgb = xgb.train(xgb_param, dtrain, num_round)\n",
    "\n",
    "    # Make predictions on validation set using XGBoost\n",
    "    pred_proba_xgb = model_xgb.predict(dval)\n",
    "    y_pred_xgb = np.array(pred_proba_xgb, dtype=int)\n",
    "    val_accuracy_xgb = accuracy_score(y_val, y_pred_xgb)\n",
    "    val_accuracies_xgb.append(val_accuracy_xgb)\n",
    "\n",
    "    # Make predictions on test set using both models\n",
    "    dtest = xgb.DMatrix(X_test)\n",
    "    test_preds_lgb.append(model_lgb.predict_proba(X_test))\n",
    "    test_preds_xgb.append(model_xgb.predict(dtest))\n"
   ]
  },
  {
   "cell_type": "code",
   "execution_count": 10,
   "id": "366db4b1",
   "metadata": {
    "execution": {
     "iopub.execute_input": "2024-02-27T19:15:40.940033Z",
     "iopub.status.busy": "2024-02-27T19:15:40.939586Z",
     "iopub.status.idle": "2024-02-27T19:15:40.946437Z",
     "shell.execute_reply": "2024-02-27T19:15:40.945341Z"
    },
    "papermill": {
     "duration": 0.017537,
     "end_time": "2024-02-27T19:15:40.949443",
     "exception": false,
     "start_time": "2024-02-27T19:15:40.931906",
     "status": "completed"
    },
    "tags": []
   },
   "outputs": [
    {
     "name": "stdout",
     "output_type": "stream",
     "text": [
      "Mean Validation Accuracy (LightGBM): 0.9141606478441672\n",
      "Mean Validation Accuracy (XGBoost): 0.9140731013350842\n"
     ]
    }
   ],
   "source": [
    "# Average validation accuracies\n",
    "mean_val_accuracy_lgb = np.mean(val_accuracies_lgb)\n",
    "mean_val_accuracy_xgb = np.mean(val_accuracies_xgb)\n",
    "print(\"Mean Validation Accuracy (LightGBM):\", mean_val_accuracy_lgb)\n",
    "print(\"Mean Validation Accuracy (XGBoost):\", mean_val_accuracy_xgb)"
   ]
  },
  {
   "cell_type": "code",
   "execution_count": 11,
   "id": "3e709243",
   "metadata": {
    "execution": {
     "iopub.execute_input": "2024-02-27T19:15:40.964882Z",
     "iopub.status.busy": "2024-02-27T19:15:40.964452Z",
     "iopub.status.idle": "2024-02-27T19:15:40.974377Z",
     "shell.execute_reply": "2024-02-27T19:15:40.973518Z"
    },
    "papermill": {
     "duration": 0.019947,
     "end_time": "2024-02-27T19:15:40.977129",
     "exception": false,
     "start_time": "2024-02-27T19:15:40.957182",
     "status": "completed"
    },
    "tags": []
   },
   "outputs": [],
   "source": [
    "# Average predictions on test set\n",
    "mean_test_preds_lgb = np.mean(test_preds_lgb, axis=0)\n",
    "mean_test_preds_xgb = np.mean(test_preds_xgb, axis=0)\n",
    "\n",
    "final_test_preds_lgb = np.argmax(mean_test_preds_lgb, axis=1)\n",
    "final_test_preds_xgb = np.array(mean_test_preds_xgb, dtype=int)\n",
    "\n"
   ]
  },
  {
   "cell_type": "code",
   "execution_count": 12,
   "id": "1a451544",
   "metadata": {
    "execution": {
     "iopub.execute_input": "2024-02-27T19:15:40.993872Z",
     "iopub.status.busy": "2024-02-27T19:15:40.992771Z",
     "iopub.status.idle": "2024-02-27T19:15:40.999831Z",
     "shell.execute_reply": "2024-02-27T19:15:40.998937Z"
    },
    "papermill": {
     "duration": 0.019167,
     "end_time": "2024-02-27T19:15:41.002976",
     "exception": false,
     "start_time": "2024-02-27T19:15:40.983809",
     "status": "completed"
    },
    "tags": []
   },
   "outputs": [],
   "source": [
    "# Decode predictions\n",
    "pred_lgb = labelencoder.inverse_transform(final_test_preds_lgb)\n",
    "pred_xgb = labelencoder.inverse_transform(final_test_preds_xgb)\n",
    "\n"
   ]
  },
  {
   "cell_type": "code",
   "execution_count": 13,
   "id": "fae3d0e2",
   "metadata": {
    "execution": {
     "iopub.execute_input": "2024-02-27T19:15:41.018761Z",
     "iopub.status.busy": "2024-02-27T19:15:41.017412Z",
     "iopub.status.idle": "2024-02-27T19:15:41.086380Z",
     "shell.execute_reply": "2024-02-27T19:15:41.085378Z"
    },
    "papermill": {
     "duration": 0.080679,
     "end_time": "2024-02-27T19:15:41.089618",
     "exception": false,
     "start_time": "2024-02-27T19:15:41.008939",
     "status": "completed"
    },
    "tags": []
   },
   "outputs": [],
   "source": [
    "# Create submission files for both models\n",
    "submission_lgb = pd.DataFrame({'id': test_data.id, 'NObeyesdad': pred_lgb})\n",
    "submission_xgb = pd.DataFrame({'id': test_data.id, 'NObeyesdad': pred_xgb})\n",
    "\n",
    "submission_lgb.to_csv('submission_lgb.csv', index=False)\n",
    "submission_xgb.to_csv('submission_xgb.csv', index=False)"
   ]
  },
  {
   "cell_type": "code",
   "execution_count": null,
   "id": "a6a2e001",
   "metadata": {
    "papermill": {
     "duration": 0.006022,
     "end_time": "2024-02-27T19:15:41.102035",
     "exception": false,
     "start_time": "2024-02-27T19:15:41.096013",
     "status": "completed"
    },
    "tags": []
   },
   "outputs": [],
   "source": []
  }
 ],
 "metadata": {
  "kaggle": {
   "accelerator": "none",
   "dataSources": [
    {
     "databundleVersionId": 7609535,
     "sourceId": 68479,
     "sourceType": "competition"
    },
    {
     "datasetId": 4030196,
     "sourceId": 7009925,
     "sourceType": "datasetVersion"
    }
   ],
   "dockerImageVersionId": 30646,
   "isGpuEnabled": false,
   "isInternetEnabled": true,
   "language": "python",
   "sourceType": "notebook"
  },
  "kernelspec": {
   "display_name": "Python 3",
   "language": "python",
   "name": "python3"
  },
  "language_info": {
   "codemirror_mode": {
    "name": "ipython",
    "version": 3
   },
   "file_extension": ".py",
   "mimetype": "text/x-python",
   "name": "python",
   "nbconvert_exporter": "python",
   "pygments_lexer": "ipython3",
   "version": "3.10.13"
  },
  "papermill": {
   "default_parameters": {},
   "duration": 137.573431,
   "end_time": "2024-02-27T19:15:41.933617",
   "environment_variables": {},
   "exception": null,
   "input_path": "__notebook__.ipynb",
   "output_path": "__notebook__.ipynb",
   "parameters": {},
   "start_time": "2024-02-27T19:13:24.360186",
   "version": "2.5.0"
  }
 },
 "nbformat": 4,
 "nbformat_minor": 5
}
